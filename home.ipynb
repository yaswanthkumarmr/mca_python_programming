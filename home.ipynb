{
 "cells": [
  {
   "cell_type": "code",
   "execution_count": 1,
   "id": "b7c82769",
   "metadata": {},
   "outputs": [
    {
     "ename": "NameError",
     "evalue": "name 'yaswanth' is not defined",
     "output_type": "error",
     "traceback": [
      "\u001b[31m---------------------------------------------------------------------------\u001b[39m",
      "\u001b[31mNameError\u001b[39m                                 Traceback (most recent call last)",
      "\u001b[36mCell\u001b[39m\u001b[36m \u001b[39m\u001b[32mIn[1]\u001b[39m\u001b[32m, line 1\u001b[39m\n\u001b[32m----> \u001b[39m\u001b[32m1\u001b[39m \u001b[38;5;28mprint\u001b[39m(\u001b[43myaswanth\u001b[49m)\n",
      "\u001b[31mNameError\u001b[39m: name 'yaswanth' is not defined"
     ]
    }
   ],
   "source": [
    "print(yaswanth)\n"
   ]
  },
  {
   "cell_type": "code",
   "execution_count": 2,
   "id": "b0c46b60",
   "metadata": {},
   "outputs": [
    {
     "name": "stdout",
     "output_type": "stream",
     "text": [
      "yaswanth\n"
     ]
    }
   ],
   "source": [
    "print(\"yaswanth\")"
   ]
  },
  {
   "cell_type": "code",
   "execution_count": 4,
   "id": "e11e1dc0",
   "metadata": {},
   "outputs": [
    {
     "ename": "NameError",
     "evalue": "name 'C' is not defined",
     "output_type": "error",
     "traceback": [
      "\u001b[31m---------------------------------------------------------------------------\u001b[39m",
      "\u001b[31mNameError\u001b[39m                                 Traceback (most recent call last)",
      "\u001b[36mCell\u001b[39m\u001b[36m \u001b[39m\u001b[32mIn[4]\u001b[39m\u001b[32m, line 7\u001b[39m\n\u001b[32m      5\u001b[39m c=a-b\n\u001b[32m      6\u001b[39m c=a**b\n\u001b[32m----> \u001b[39m\u001b[32m7\u001b[39m \u001b[38;5;28mprint\u001b[39m(\u001b[43mC\u001b[49m)\n",
      "\u001b[31mNameError\u001b[39m: name 'C' is not defined"
     ]
    }
   ],
   "source": [
    "\n",
    "a=100\n",
    "b=200\n",
    "c=a+b\n",
    "c=a*b\n",
    "c=a-b\n",
    "c=a**b\n",
    "print(C)"
   ]
  },
  {
   "cell_type": "code",
   "execution_count": 2,
   "id": "c8bdc810",
   "metadata": {},
   "outputs": [
    {
     "name": "stdout",
     "output_type": "stream",
     "text": [
      "<class 'float'>\n"
     ]
    }
   ],
   "source": [
    "y = 3.5\n",
    "print(type(y)) "
   ]
  },
  {
   "cell_type": "code",
   "execution_count": 3,
   "id": "1ea22bfb",
   "metadata": {},
   "outputs": [
    {
     "name": "stdout",
     "output_type": "stream",
     "text": [
      "13\n",
      "3.3333333333333335\n",
      "3\n",
      "1000\n"
     ]
    }
   ],
   "source": [
    "a = 10\n",
    "b = 3\n",
    "print(a + b)  # 13\n",
    "print(a / b)  # 3.333...\n",
    "print(a // b) # 3\n",
    "print(a ** b) # 1000"
   ]
  },
  {
   "cell_type": "code",
   "execution_count": 7,
   "id": "e0c573c7",
   "metadata": {},
   "outputs": [
    {
     "name": "stdout",
     "output_type": "stream",
     "text": [
      "300\n",
      "-100\n",
      "20000\n",
      "0.5\n"
     ]
    }
   ],
   "source": [
    "a =100\n",
    "b =200\n",
    "print(a+b)\n",
    "print(a-b)\n",
    "print(a*b)\n",
    "print(a/b)"
   ]
  },
  {
   "cell_type": "code",
   "execution_count": null,
   "id": "bb233f29",
   "metadata": {},
   "outputs": [],
   "source": []
  }
 ],
 "metadata": {
  "kernelspec": {
   "display_name": "Python 3",
   "language": "python",
   "name": "python3"
  },
  "language_info": {
   "codemirror_mode": {
    "name": "ipython",
    "version": 3
   },
   "file_extension": ".py",
   "mimetype": "text/x-python",
   "name": "python",
   "nbconvert_exporter": "python",
   "pygments_lexer": "ipython3",
   "version": "3.13.6"
  }
 },
 "nbformat": 4,
 "nbformat_minor": 5
}

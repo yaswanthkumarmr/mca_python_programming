{
 "cells": [
  {
   "cell_type": "code",
   "execution_count": null,
   "id": "d46ebbf7",
   "metadata": {},
   "outputs": [
    {
     "data": {
      "text/plain": [
       "range(0, 21)"
      ]
     },
     "execution_count": 20,
     "metadata": {},
     "output_type": "execute_result"
    }
   ],
   "source": [
    "range(100)"
   ]
  },
  {
   "cell_type": "code",
   "execution_count": 8,
   "id": "426d9b73",
   "metadata": {},
   "outputs": [
    {
     "name": "stdout",
     "output_type": "stream",
     "text": [
      "0\n",
      "1\n",
      "2\n",
      "3\n",
      "4\n",
      "5\n",
      "6\n",
      "7\n",
      "8\n",
      "9\n",
      "10\n",
      "11\n",
      "12\n",
      "13\n",
      "14\n",
      "15\n",
      "16\n",
      "17\n",
      "18\n",
      "19\n",
      "20\n",
      "21\n",
      "22\n",
      "23\n",
      "24\n",
      "25\n",
      "26\n",
      "27\n",
      "28\n",
      "29\n",
      "30\n",
      "31\n",
      "32\n",
      "33\n",
      "34\n",
      "35\n",
      "36\n",
      "37\n",
      "38\n",
      "39\n"
     ]
    }
   ],
   "source": [
    "for i in range(40):\n",
    "    print(i)"
   ]
  },
  {
   "cell_type": "code",
   "execution_count": 5,
   "id": "8a660515",
   "metadata": {},
   "outputs": [
    {
     "name": "stdout",
     "output_type": "stream",
     "text": [
      "this is a statement\n",
      "this is a statement\n",
      "this is a statement\n",
      "this is a statement\n",
      "this is a statement\n"
     ]
    }
   ],
   "source": [
    "\n",
    "for _ in range(5):\n",
    "        print(\"this is a statement\")"
   ]
  },
  {
   "cell_type": "code",
   "execution_count": 22,
   "id": "677ebff2",
   "metadata": {},
   "outputs": [
    {
     "name": "stdout",
     "output_type": "stream",
     "text": [
      "0\n",
      "1\n",
      "2\n",
      "3\n",
      "4\n",
      "5\n",
      "6\n",
      "7\n",
      "8\n",
      "9\n",
      "10\n",
      "11\n",
      "12\n",
      "13\n",
      "14\n"
     ]
    }
   ],
   "source": [
    "for i in range(15):\n",
    "    print(i)"
   ]
  },
  {
   "cell_type": "code",
   "execution_count": 27,
   "id": "4953b584",
   "metadata": {},
   "outputs": [
    {
     "name": "stdout",
     "output_type": "stream",
     "text": [
      "2\n",
      "3\n",
      "4\n",
      "5\n",
      "6\n",
      "7\n",
      "8\n",
      "9\n",
      "10\n",
      "11\n",
      "12\n",
      "13\n",
      "14\n",
      "15\n",
      "16\n",
      "17\n",
      "18\n",
      "19\n",
      "20\n",
      "21\n",
      "22\n",
      "23\n",
      "24\n",
      "25\n",
      "26\n",
      "27\n",
      "28\n",
      "29\n",
      "30\n",
      "31\n",
      "32\n",
      "33\n",
      "34\n",
      "35\n",
      "36\n",
      "37\n",
      "38\n",
      "39\n",
      "40\n",
      "41\n",
      "42\n",
      "43\n",
      "44\n",
      "45\n",
      "46\n",
      "47\n",
      "48\n",
      "49\n",
      "50\n",
      "51\n",
      "52\n",
      "53\n",
      "54\n",
      "55\n",
      "56\n",
      "57\n",
      "58\n",
      "59\n",
      "60\n",
      "61\n",
      "62\n",
      "63\n",
      "64\n",
      "65\n",
      "66\n",
      "67\n",
      "68\n",
      "69\n",
      "70\n",
      "71\n",
      "72\n",
      "73\n",
      "74\n",
      "75\n",
      "76\n",
      "77\n",
      "78\n",
      "79\n",
      "80\n",
      "81\n",
      "82\n",
      "83\n",
      "84\n",
      "85\n",
      "86\n",
      "87\n",
      "88\n",
      "89\n",
      "90\n",
      "91\n",
      "92\n",
      "93\n",
      "94\n",
      "95\n",
      "96\n",
      "97\n",
      "98\n",
      "99\n",
      "100\n",
      "101\n",
      "102\n",
      "103\n",
      "104\n",
      "105\n",
      "106\n",
      "107\n",
      "108\n",
      "109\n",
      "110\n",
      "111\n",
      "112\n",
      "113\n",
      "114\n",
      "115\n",
      "116\n",
      "117\n",
      "118\n",
      "119\n",
      "120\n",
      "121\n",
      "122\n",
      "123\n",
      "124\n",
      "125\n",
      "126\n",
      "127\n",
      "128\n",
      "129\n",
      "130\n",
      "131\n",
      "132\n",
      "133\n",
      "134\n",
      "135\n",
      "136\n",
      "137\n",
      "138\n",
      "139\n",
      "140\n",
      "141\n",
      "142\n",
      "143\n",
      "144\n",
      "145\n",
      "146\n",
      "147\n",
      "148\n",
      "149\n",
      "150\n",
      "151\n",
      "152\n",
      "153\n",
      "154\n",
      "155\n",
      "156\n",
      "157\n",
      "158\n",
      "159\n",
      "160\n",
      "161\n",
      "162\n",
      "163\n",
      "164\n",
      "165\n",
      "166\n",
      "167\n",
      "168\n",
      "169\n",
      "170\n",
      "171\n",
      "172\n",
      "173\n",
      "174\n",
      "175\n",
      "176\n",
      "177\n",
      "178\n",
      "179\n",
      "180\n",
      "181\n",
      "182\n",
      "183\n",
      "184\n",
      "185\n",
      "186\n",
      "187\n",
      "188\n",
      "189\n",
      "190\n",
      "191\n",
      "192\n",
      "193\n",
      "194\n",
      "195\n",
      "196\n",
      "197\n",
      "198\n",
      "199\n"
     ]
    }
   ],
   "source": [
    "a = 2\n",
    "b = 200\n",
    "for i in range(a , b):\n",
    "    print(i)"
   ]
  },
  {
   "cell_type": "code",
   "execution_count": 29,
   "id": "d39e6ec0",
   "metadata": {},
   "outputs": [
    {
     "name": "stdout",
     "output_type": "stream",
     "text": [
      "2 5 2\n",
      "2 5 3\n",
      "2 5 4\n"
     ]
    }
   ],
   "source": [
    "x = int(input(\"enter start\"))\n",
    "y = int(input(\"enter stop\"))\n",
    "for i in range(x , y):\n",
    "    print(x , y , i)"
   ]
  },
  {
   "cell_type": "code",
   "execution_count": 34,
   "id": "e322b885",
   "metadata": {},
   "outputs": [
    {
     "name": "stdout",
     "output_type": "stream",
     "text": [
      "12 X 1 = 12\n",
      "12 X 2 = 24\n",
      "12 X 3 = 36\n",
      "12 X 4 = 48\n",
      "12 X 5 = 60\n",
      "12 X 6 = 72\n",
      "12 X 7 = 84\n",
      "12 X 8 = 96\n",
      "12 X 9 = 108\n",
      "12 X 10 = 120\n"
     ]
    }
   ],
   "source": [
    "size = 10\n",
    "for i in range (1 , size+1):\n",
    "    print(f\"12 X {i} = {12 * i}\")"
   ]
  },
  {
   "cell_type": "code",
   "execution_count": 36,
   "id": "23d5462c",
   "metadata": {},
   "outputs": [
    {
     "name": "stdout",
     "output_type": "stream",
     "text": [
      "hi\n"
     ]
    }
   ],
   "source": [
    "print(\"hi\")\n"
   ]
  },
  {
   "cell_type": "code",
   "execution_count": 11,
   "id": "ae52266f",
   "metadata": {},
   "outputs": [
    {
     "name": "stdout",
     "output_type": "stream",
     "text": [
      "2\n",
      "8\n",
      "14\n",
      "20\n",
      "26\n",
      "32\n",
      "38\n",
      "44\n",
      "50\n",
      "56\n",
      "62\n",
      "68\n",
      "74\n",
      "80\n",
      "86\n",
      "92\n"
     ]
    }
   ],
   "source": [
    "range(2 , 98, 6)\n",
    "for i in range(2 , 98 , 6):\n",
    "   print (i)\n"
   ]
  },
  {
   "cell_type": "code",
   "execution_count": 10,
   "id": "5da5ac6a",
   "metadata": {},
   "outputs": [
    {
     "name": "stdout",
     "output_type": "stream",
     "text": [
      "0\n",
      "5\n",
      "10\n"
     ]
    }
   ],
   "source": [
    "for i in range(0,15,5):\n",
    "    print(i)"
   ]
  },
  {
   "cell_type": "code",
   "execution_count": 20,
   "id": "30626eed",
   "metadata": {},
   "outputs": [
    {
     "name": "stdout",
     "output_type": "stream",
     "text": [
      "200\n",
      "198\n",
      "196\n",
      "194\n",
      "192\n",
      "190\n",
      "188\n",
      "186\n",
      "184\n",
      "182\n",
      "180\n",
      "178\n",
      "176\n",
      "174\n",
      "172\n",
      "170\n",
      "168\n",
      "166\n",
      "164\n",
      "162\n",
      "160\n",
      "158\n",
      "156\n",
      "154\n",
      "152\n",
      "150\n",
      "148\n",
      "146\n",
      "144\n",
      "142\n",
      "140\n",
      "138\n",
      "136\n",
      "134\n",
      "132\n",
      "130\n",
      "128\n",
      "126\n",
      "124\n",
      "122\n",
      "120\n",
      "118\n",
      "116\n",
      "114\n",
      "112\n",
      "110\n",
      "108\n",
      "106\n",
      "104\n",
      "102\n",
      "100\n",
      "98\n",
      "96\n",
      "94\n",
      "92\n",
      "90\n",
      "88\n",
      "86\n",
      "84\n",
      "82\n",
      "80\n",
      "78\n",
      "76\n",
      "74\n",
      "72\n",
      "70\n",
      "68\n",
      "66\n",
      "64\n",
      "62\n",
      "60\n",
      "58\n",
      "56\n",
      "54\n",
      "52\n",
      "50\n",
      "48\n",
      "46\n",
      "44\n",
      "42\n",
      "40\n",
      "38\n",
      "36\n",
      "34\n",
      "32\n",
      "30\n",
      "28\n",
      "26\n",
      "24\n",
      "22\n",
      "20\n",
      "18\n",
      "16\n",
      "14\n",
      "12\n",
      "10\n",
      "8\n",
      "6\n",
      "4\n"
     ]
    }
   ],
   "source": [
    "for i in range(200,2,-2):\n",
    "    print(i)"
   ]
  },
  {
   "cell_type": "code",
   "execution_count": 19,
   "id": "efdd5222",
   "metadata": {},
   "outputs": [
    {
     "name": "stdout",
     "output_type": "stream",
     "text": [
      "100\n",
      "102\n",
      "104\n",
      "106\n",
      "108\n",
      "110\n",
      "112\n",
      "114\n",
      "116\n",
      "118\n",
      "120\n",
      "122\n",
      "124\n",
      "126\n",
      "128\n",
      "130\n",
      "132\n",
      "134\n",
      "136\n",
      "138\n",
      "140\n",
      "142\n",
      "144\n",
      "146\n",
      "148\n",
      "150\n",
      "152\n",
      "154\n",
      "156\n",
      "158\n",
      "160\n",
      "162\n",
      "164\n",
      "166\n",
      "168\n",
      "170\n",
      "172\n",
      "174\n",
      "176\n",
      "178\n",
      "180\n",
      "182\n",
      "184\n",
      "186\n",
      "188\n",
      "190\n",
      "192\n",
      "194\n",
      "196\n",
      "198\n",
      "200\n"
     ]
    }
   ],
   "source": [
    "for num in range(100,201,2):\n",
    "    print(num)"
   ]
  },
  {
   "cell_type": "code",
   "execution_count": 24,
   "id": "3170fba5",
   "metadata": {},
   "outputs": [
    {
     "name": "stdout",
     "output_type": "stream",
     "text": [
      "['red', 'pink', 'yellow']\n"
     ]
    }
   ],
   "source": [
    "colours = ['red','pink','yellow']\n",
    "print(colours)"
   ]
  },
  {
   "cell_type": "code",
   "execution_count": 25,
   "id": "2cf56e55",
   "metadata": {},
   "outputs": [
    {
     "name": "stdout",
     "output_type": "stream",
     "text": [
      "red\n",
      "pink\n",
      "yellow\n"
     ]
    }
   ],
   "source": [
    "#formatted output\n",
    "for colour in colours:\n",
    "    print(colour)"
   ]
  },
  {
   "cell_type": "code",
   "execution_count": null,
   "id": "effd6674",
   "metadata": {},
   "outputs": [
    {
     "name": "stdout",
     "output_type": "stream",
     "text": [
      "arya\n",
      "I\n",
      "red\n",
      "pushpa\n",
      "dhee\n",
      "Mr perfect\n",
      "darling\n",
      "lucky\n",
      "bhhubali the begining\n"
     ]
    }
   ],
   "source": [
    "movie = ['arya','I','red','pushpa','dhee','Mr perfect','aarya','lucky','bhhubali the begining']\n",
    "for movie in movie:\n",
    "    print(movie)"
   ]
  },
  {
   "cell_type": "code",
   "execution_count": 6,
   "id": "61bb5e12",
   "metadata": {},
   "outputs": [
    {
     "name": "stdout",
     "output_type": "stream",
     "text": [
      "1 !! 3 !! 5 !! 7 !! 9 !! 11 !! 13 !! 15 !! 17 !! 19 !! 21 !! 23 !! 25 !! 27 !! 29 !! 31 !! 33 !! 35 !! 37 !! 39 !! 41 !! 43 !! 45 !! 47 !! 49 !! 51 !! 53 !! 55 !! 57 !! 59 !! 61 !! 63 !! 65 !! 67 !! 69 !! 71 !! 73 !! 75 !! 77 !! 79 !! 81 !! 83 !! 85 !! 87 !! 89 !! 91 !! 93 !! 95 !! 97 !! 99 !! "
     ]
    }
   ],
   "source": [
    "for i in range(1,101,2):\n",
    "    print(i, end=\" !! \")"
   ]
  },
  {
   "cell_type": "code",
   "execution_count": 1,
   "id": "0e787701",
   "metadata": {},
   "outputs": [
    {
     "name": "stdout",
     "output_type": "stream",
     "text": [
      "-10 -7 -4 -1 2 5 8 "
     ]
    }
   ],
   "source": [
    "for i in range(-10,10,3):\n",
    "    print(i,end=\" \")"
   ]
  },
  {
   "cell_type": "code",
   "execution_count": 7,
   "id": "81ab9fcd",
   "metadata": {},
   "outputs": [
    {
     "name": "stdout",
     "output_type": "stream",
     "text": [
      "2\n",
      "4\n",
      "6\n",
      "8\n",
      "10\n"
     ]
    }
   ],
   "source": [
    "for i in range(1,11):\n",
    "    if i %2 ==0:\n",
    "        print(i)"
   ]
  },
  {
   "cell_type": "code",
   "execution_count": 9,
   "id": "a4da6094",
   "metadata": {},
   "outputs": [
    {
     "name": "stdout",
     "output_type": "stream",
     "text": [
      "1\n",
      "3\n",
      "5\n",
      "7\n",
      "9\n"
     ]
    }
   ],
   "source": [
    "for i in range(1,11):\n",
    "    if i %2!=0:\n",
    "        print(i)\n",
    "    "
   ]
  },
  {
   "cell_type": "code",
   "execution_count": 17,
   "id": "d017f1f7",
   "metadata": {},
   "outputs": [
    {
     "name": "stdout",
     "output_type": "stream",
     "text": [
      "1 3 5 7 9 \n",
      "1 3 5 7 9 \n",
      "1 3 5 7 9 \n",
      "1 3 5 7 9 \n",
      "144\n",
      "1 3 5 7 9 \n"
     ]
    }
   ],
   "source": [
    "nums = [1,5,11,3,12,15]\n",
    "for i in nums:\n",
    "    if i %2==0:\n",
    "        s=i**2\n",
    "        print(s)\n",
    "    else:\n",
    "        print(\"1 3 5 7 9 \")    "
   ]
  },
  {
   "cell_type": "markdown",
   "id": "4a804bde",
   "metadata": {},
   "source": [
    "cubes of odd nums"
   ]
  },
  {
   "cell_type": "code",
   "execution_count": 23,
   "id": "571b9b0d",
   "metadata": {},
   "outputs": [
    {
     "name": "stdout",
     "output_type": "stream",
     "text": [
      "the area for1 is 3.14\n",
      "the area for3 is 28.26\n",
      "the area for5 is 78.5\n",
      "the area for6 is 113.04\n",
      "the area for11.89 is 443.90839400000004\n",
      "the area for10.76 is 363.54166399999997\n"
     ]
    }
   ],
   "source": [
    "radius = [1,3,5,6,11.89,10.76]\n",
    "for r in radius:\n",
    "    area = 3.14 * r **2\n",
    "    print(f\"the area for{r} is {area}\")"
   ]
  },
  {
   "cell_type": "code",
   "execution_count": 3,
   "id": "df83e669",
   "metadata": {},
   "outputs": [
    {
     "name": "stdout",
     "output_type": "stream",
     "text": [
      "angry birds\n"
     ]
    }
   ],
   "source": [
    "videogames = ['free fire', 'chess', 'circket', 'candy crush', 'angry birds']\n",
    "for name in videogames:\n",
    "    if name.startswith('a'):\n",
    "        print(name)"
   ]
  },
  {
   "cell_type": "code",
   "execution_count": 36,
   "id": "3f095f8a",
   "metadata": {},
   "outputs": [
    {
     "name": "stdout",
     "output_type": "stream",
     "text": [
      "book->the final empire\n",
      "book->the alloy of law\n",
      "book->hero of ages\n",
      "book->the way of kings\n"
     ]
    }
   ],
   "source": [
    "books = [\"the final empire\",\n",
    "         \"elantris\",\n",
    "         \"the alloy of law\",\n",
    "         \"hero of ages\",\n",
    "         \"the way of kings\"\n",
    "         ]\n",
    "for book in books:\n",
    "    if \"the\" in book or \"of\" in book:\n",
    "        print(f\"book->{book}\")"
   ]
  },
  {
   "cell_type": "code",
   "execution_count": 12,
   "id": "722742c2",
   "metadata": {},
   "outputs": [
    {
     "name": "stdout",
     "output_type": "stream",
     "text": [
      "10\n",
      "21\n",
      "33\n",
      "46\n",
      "60\n",
      "75\n",
      "91\n",
      "108\n",
      "126\n",
      "145\n",
      "165\n"
     ]
    }
   ],
   "source": [
    "\n",
    "total = 0\n",
    "for num in range(10,21):\n",
    "    total = total+num\n",
    "    print(total)"
   ]
  },
  {
   "cell_type": "code",
   "execution_count": 11,
   "id": "56740bb5",
   "metadata": {},
   "outputs": [
    {
     "name": "stdout",
     "output_type": "stream",
     "text": [
      "10\n",
      "110\n",
      "1320\n",
      "17160\n",
      "240240\n",
      "3603600\n",
      "57657600\n",
      "980179200\n",
      "17643225600\n",
      "335221286400\n",
      "6704425728000\n"
     ]
    }
   ],
   "source": [
    "total = 1\n",
    "for num in range(10,21):\n",
    "    total = total*num\n",
    "    print(total)"
   ]
  },
  {
   "cell_type": "code",
   "execution_count": 14,
   "id": "864a73f6",
   "metadata": {},
   "outputs": [
    {
     "name": "stdout",
     "output_type": "stream",
     "text": [
      "the sum of values is:  114\n"
     ]
    }
   ],
   "source": [
    "nums = [5, 11, 2, 53, 10, 33]\n",
    "total = sum(nums)\n",
    "print(\"the sum of values is: \", total)"
   ]
  },
  {
   "cell_type": "code",
   "execution_count": 15,
   "id": "dab8a163",
   "metadata": {},
   "outputs": [
    {
     "name": "stdout",
     "output_type": "stream",
     "text": [
      "53\n"
     ]
    }
   ],
   "source": [
    "nums = [5, 11, 2, 53, 10, 33]\n",
    "m = 0\n",
    "for num in nums:\n",
    "    if num > m :\n",
    "        m = num\n",
    "print(m)"
   ]
  },
  {
   "cell_type": "code",
   "execution_count": 17,
   "id": "b16976cb",
   "metadata": {},
   "outputs": [
    {
     "name": "stdout",
     "output_type": "stream",
     "text": [
      "total count =8\n"
     ]
    }
   ],
   "source": [
    "nums = [25, 26, 27, 28, 29, 30, 31, 32, 33, 34, 35, 36, 37, 38, 39, 40, 41, 42, 43, 44, 45, 46, 47, 48, 49, 50]\n",
    "count = 0\n",
    "for i in nums :\n",
    "    if i%3 == 0 :\n",
    "        count = count+1\n",
    "print (f\"total count ={count}\")        "
   ]
  },
  {
   "cell_type": "code",
   "execution_count": 20,
   "id": "9070fcfb",
   "metadata": {},
   "outputs": [
    {
     "name": "stdout",
     "output_type": "stream",
     "text": [
      "total count =13\n"
     ]
    }
   ],
   "source": [
    "nums = [25, 26, 27, 28, 29, 30, 31, 32, 33, 34, 35, 36, 37, 38, 39, 40, 41, 42, 43, 44, 45, 46, 47, 48, 49, 50]\n",
    "count = 0\n",
    "for i in nums :\n",
    "    if i%2 == 0 :\n",
    "        count = count+1\n",
    "print (f\"total count ={count}\") "
   ]
  },
  {
   "cell_type": "code",
   "execution_count": 14,
   "id": "8e3dbb05",
   "metadata": {},
   "outputs": [
    {
     "name": "stdout",
     "output_type": "stream",
     "text": [
      "count 7\n"
     ]
    }
   ],
   "source": [
    "movies = [\"Harry potter 1\", \"Harry potter 2\", \"Harry potter 3\", \"Harry potter 4\"\n",
    "         \"Harry potter 5\", \"Harry potter 6\", \"Harry potter 7\", \"Harry potter 8\"\n",
    "         \"Fast and furious 1\", \"Fast and furious 2\", \"Fast and furious 3\",\n",
    "         \"Fast and furious 4\"]\n",
    "movies_with_h = 0\n",
    "for movie in movies :\n",
    "    if movie.startswith(\"H\") or movie.startswith(\"h\"):\n",
    "        #long way -> count = count + 1\n",
    "        movies_with_h += 1\n",
    "print(\"count\", movies_with_h)"
   ]
  },
  {
   "cell_type": "code",
   "execution_count": 15,
   "id": "946aed37",
   "metadata": {},
   "outputs": [
    {
     "name": "stdout",
     "output_type": "stream",
     "text": [
      "10* 1\n",
      "9* 10\n",
      "8* 90\n",
      "7* 720\n",
      "6* 5040\n",
      "5* 30240\n",
      "4* 151200\n",
      "3* 604800\n",
      "2* 1814400\n",
      "1* 3628800\n",
      "3628800\n"
     ]
    }
   ],
   "source": [
    "#Factorial \n",
    "num = 10\n",
    "fact = 1\n",
    "# you can use a backword or forward loop\n",
    "for i in range(num, 0, -1):\n",
    "    print(f'{i}* {fact}')\n",
    "    fact = fact * i\n",
    "print(fact)"
   ]
  },
  {
   "cell_type": "code",
   "execution_count": 16,
   "id": "9804e956",
   "metadata": {},
   "outputs": [
    {
     "name": "stdout",
     "output_type": "stream",
     "text": [
      "Today’s movie suggestion: RRR\n"
     ]
    }
   ],
   "source": [
    "import random\n",
    "\n",
    "movies = [\"Baahubali\", \"RRR\", \"Pushpa\", \"Magadheera\", \"Arjun Reddy\", \"Mahanati\"]\n",
    "\n",
    "print(\"Today’s movie suggestion:\", random.choice(movies))\n"
   ]
  },
  {
   "cell_type": "code",
   "execution_count": 20,
   "id": "16af3a32",
   "metadata": {},
   "outputs": [
    {
     "name": "stdout",
     "output_type": "stream",
     "text": [
      "i = 1, j = 1\n",
      "i = 1, j = 2\n",
      "i = 1, j = 3\n",
      "i = 1, j = 4\n",
      "i = 1, j = 5\n",
      "i = 2, j = 1\n",
      "i = 2, j = 2\n",
      "i = 2, j = 3\n",
      "i = 2, j = 4\n",
      "i = 2, j = 5\n",
      "i = 3, j = 1\n",
      "i = 3, j = 2\n",
      "i = 3, j = 3\n",
      "i = 3, j = 4\n",
      "i = 3, j = 5\n",
      "i = 4, j = 1\n",
      "i = 4, j = 2\n",
      "i = 4, j = 3\n",
      "i = 4, j = 4\n",
      "i = 4, j = 5\n",
      "i = 5, j = 1\n",
      "i = 5, j = 2\n",
      "i = 5, j = 3\n",
      "i = 5, j = 4\n",
      "i = 5, j = 5\n",
      "i = 6, j = 1\n",
      "i = 6, j = 2\n",
      "i = 6, j = 3\n",
      "i = 6, j = 4\n",
      "i = 6, j = 5\n",
      "i = 7, j = 1\n",
      "i = 7, j = 2\n",
      "i = 7, j = 3\n",
      "i = 7, j = 4\n",
      "i = 7, j = 5\n",
      "i = 8, j = 1\n",
      "i = 8, j = 2\n",
      "i = 8, j = 3\n",
      "i = 8, j = 4\n",
      "i = 8, j = 5\n",
      "i = 9, j = 1\n",
      "i = 9, j = 2\n",
      "i = 9, j = 3\n",
      "i = 9, j = 4\n",
      "i = 9, j = 5\n",
      "i = 10, j = 1\n",
      "i = 10, j = 2\n",
      "i = 10, j = 3\n",
      "i = 10, j = 4\n",
      "i = 10, j = 5\n"
     ]
    }
   ],
   "source": [
    "# loops total 10*5 => 50 times:\n",
    "for i in range(1, 11):          \n",
    "    for j in range(1, 6):\n",
    "        print(f\"i = {i}, j = {j}\")"
   ]
  },
  {
   "cell_type": "code",
   "execution_count": 22,
   "id": "4d387f88",
   "metadata": {},
   "outputs": [
    {
     "name": "stdout",
     "output_type": "stream",
     "text": [
      "1 2 3 4 5 \n",
      "1 2 3 4 5 \n",
      "1 2 3 4 5 \n",
      "1 2 3 4 5 \n",
      "1 2 3 4 5 \n"
     ]
    }
   ],
   "source": [
    "n = 6\n",
    "for i in range(1, n):\n",
    "    for j in range(1, n):\n",
    "        print(j, end=' ')\n",
    "    print()"
   ]
  },
  {
   "cell_type": "code",
   "execution_count": null,
   "id": "2ae49cde",
   "metadata": {},
   "outputs": [
    {
     "name": "stdout",
     "output_type": "stream",
     "text": [
      "1 1 1 1 1 \n",
      "2 2 2 2 2 \n",
      "3 3 3 3 3 \n",
      "4 4 4 4 4 \n",
      "5 5 5 5 5 \n"
     ]
    }
   ],
   "source": [
    "n = 6\n",
    "for i in range(1, n):\n",
    "    for j in range(1, n):\n",
    "        print(i, end=' ')\n",
    "    print()"
   ]
  },
  {
   "cell_type": "code",
   "execution_count": 24,
   "id": "6df6acbd",
   "metadata": {},
   "outputs": [
    {
     "name": "stdout",
     "output_type": "stream",
     "text": [
      "6 6 6 6 6 \n",
      "6 6 6 6 6 \n",
      "6 6 6 6 6 \n",
      "6 6 6 6 6 \n",
      "6 6 6 6 6 \n"
     ]
    }
   ],
   "source": [
    "n = 6\n",
    "for i in range(1, n):\n",
    "    for j in range(1, n):\n",
    "        print(n, end=' ')\n",
    "    print()"
   ]
  },
  {
   "cell_type": "code",
   "execution_count": 25,
   "id": "e8de0cf8",
   "metadata": {},
   "outputs": [
    {
     "name": "stdout",
     "output_type": "stream",
     "text": [
      "1 2 3 4 5 6 7 8 9 \n",
      "1 2 3 4 5 6 7 8 9 \n",
      "1 2 3 4 5 6 7 8 9 \n",
      "1 2 3 4 5 6 7 8 9 \n",
      "1 2 3 4 5 6 7 8 9 \n",
      "1 2 3 4 5 6 7 8 9 \n",
      "1 2 3 4 5 6 7 8 9 \n",
      "1 2 3 4 5 6 7 8 9 \n",
      "1 2 3 4 5 6 7 8 9 \n"
     ]
    }
   ],
   "source": [
    "n = 10\n",
    "for i in range(1, n):\n",
    "    for j in range(1, n):\n",
    "        print(j, end=' ')\n",
    "    print()"
   ]
  },
  {
   "cell_type": "code",
   "execution_count": 27,
   "id": "98a6b5a3",
   "metadata": {},
   "outputs": [
    {
     "name": "stdout",
     "output_type": "stream",
     "text": [
      "1 1 1 1 1 1 1 1 1 \n",
      "2 2 2 2 2 2 2 2 2 \n",
      "3 3 3 3 3 3 3 3 3 \n",
      "4 4 4 4 4 4 4 4 4 \n",
      "5 5 5 5 5 5 5 5 5 \n",
      "6 6 6 6 6 6 6 6 6 \n",
      "7 7 7 7 7 7 7 7 7 \n",
      "8 8 8 8 8 8 8 8 8 \n",
      "9 9 9 9 9 9 9 9 9 \n"
     ]
    }
   ],
   "source": [
    "n = 10\n",
    "for i in range(1, n):\n",
    "    for j in range(1, n):\n",
    "        print(i, end=' ')\n",
    "    print()"
   ]
  },
  {
   "cell_type": "code",
   "execution_count": 28,
   "id": "de947cbf",
   "metadata": {},
   "outputs": [
    {
     "name": "stdout",
     "output_type": "stream",
     "text": [
      "1 2 4 5 7 8 10 11 13 14 16 17 19 20 22 23 "
     ]
    }
   ],
   "source": [
    "# skip every value divisible by 3\n",
    "for i in range(1, 25):\n",
    "    if i%3==0:\n",
    "        continue\n",
    "    print(i, end=\" \")"
   ]
  },
  {
   "cell_type": "code",
   "execution_count": 29,
   "id": "4fddf2de",
   "metadata": {},
   "outputs": [
    {
     "name": "stdout",
     "output_type": "stream",
     "text": [
      "1 2 3 3 1 2 5 6 7 2 2 1 "
     ]
    }
   ],
   "source": [
    "data = [1,2,0,3,3,0,1,2,0,5,6,7,2,0,2,1]\n",
    "for i in data:\n",
    "    if i == 0:\n",
    "        continue\n",
    "    print(i, end=' ')"
   ]
  },
  {
   "cell_type": "code",
   "execution_count": 37,
   "id": "7c0a00b9",
   "metadata": {},
   "outputs": [
    {
     "name": "stdout",
     "output_type": "stream",
     "text": [
      "1 2 3 4 5 6 7 "
     ]
    }
   ],
   "source": [
    "for i in range(1, 11):\n",
    "    if i == 8:\n",
    "        break\n",
    "    print(i, end=\" \")\n"
   ]
  },
  {
   "cell_type": "code",
   "execution_count": 38,
   "id": "b73bbb5b",
   "metadata": {},
   "outputs": [
    {
     "name": "stdout",
     "output_type": "stream",
     "text": [
      "1 2 3 4 5 6 7 "
     ]
    }
   ],
   "source": [
    "for i in range(1, 11):\n",
    "    if i == 8:\n",
    "        break\n",
    "    print(i, end=\" \")\n"
   ]
  },
  {
   "cell_type": "code",
   "execution_count": 11,
   "id": "722d7a9e",
   "metadata": {},
   "outputs": [
    {
     "name": "stdout",
     "output_type": "stream",
     "text": [
      "1 2 3 4 5 6 7 8 9 10 11 12 13 14 15 16 17 18 19 20 21 22 23 24 25 26 27 28 29 30 31 32 33 34 35 36 37 38 39 40 41 42 43 44 45 46 47 48 49 50 51 52 53 54 55 56 57 58 59 "
     ]
    }
   ],
   "source": [
    "for i in range(1, 60):\n",
    "    if i**12 == 0:\n",
    "        continue\n",
    "    print(i, end=\" \")\n",
    "    "
   ]
  },
  {
   "cell_type": "code",
   "execution_count": 18,
   "id": "d7aa5170",
   "metadata": {},
   "outputs": [
    {
     "name": "stdout",
     "output_type": "stream",
     "text": [
      "1\n",
      "2\n",
      "3\n",
      "4\n",
      "5\n",
      "6\n",
      "7\n",
      "8\n",
      "9\n"
     ]
    }
   ],
   "source": [
    "for i in range(1, 10):\n",
    "    if i == 99:\n",
    "        break\n",
    "    print(i)"
   ]
  },
  {
   "cell_type": "code",
   "execution_count": 1,
   "id": "86b49891",
   "metadata": {},
   "outputs": [
    {
     "name": "stdout",
     "output_type": "stream",
     "text": [
      "2\n",
      "5\n",
      "8\n",
      "11\n",
      "15\n",
      "loop completed\n"
     ]
    }
   ],
   "source": [
    "nums = [2, 5, 8, 11, 15]\n",
    "for n in nums:\n",
    "    print(n)\n",
    "print(\"loop completed\")"
   ]
  },
  {
   "cell_type": "code",
   "execution_count": 2,
   "id": "71106c60",
   "metadata": {},
   "outputs": [
    {
     "name": "stdout",
     "output_type": "stream",
     "text": [
      "2\n",
      "loop completed\n",
      "5\n",
      "loop completed\n",
      "8\n",
      "loop completed\n"
     ]
    }
   ],
   "source": [
    "nums = [2, 5, 8, 11, 18]\n",
    "for n in nums:\n",
    "    if n >10:\n",
    "        break\n",
    "    print(n)\n",
    "    print(\"loop completed\")"
   ]
  },
  {
   "cell_type": "code",
   "execution_count": 6,
   "id": "2986262a",
   "metadata": {},
   "outputs": [
    {
     "name": "stdout",
     "output_type": "stream",
     "text": [
      "loop broken\n",
      "loop broken\n",
      "loop broken\n",
      "loop broken\n",
      "loop broken\n",
      "loop broken\n",
      "loop broken\n",
      "loop broken\n",
      "loop broken\n",
      "loop broken\n",
      "loop completed\n"
     ]
    }
   ],
   "source": [
    "value = int(input(\"enter breakpoint\"))\n",
    "nums = [1, 2, 3, 4, 5, 6, 11, 15, 20, 25]\n",
    "for n in nums:\n",
    "    if value >n:\n",
    "        print(\"loop broken\")\n",
    "else:\n",
    "    print(\"loop completed\")"
   ]
  },
  {
   "cell_type": "markdown",
   "id": "1e827bf9",
   "metadata": {},
   "source": [
    "prime number"
   ]
  },
  {
   "cell_type": "code",
   "execution_count": 10,
   "id": "71365e6e",
   "metadata": {},
   "outputs": [
    {
     "name": "stdout",
     "output_type": "stream",
     "text": [
      "2not a prime number\n"
     ]
    }
   ],
   "source": [
    "num = int(input(\"enter a number\"))\n",
    "for n in range(2, num):\n",
    "    if num %n==0:\n",
    "        print(f\"{n}not a prime number\")\n",
    "        break\n",
    "else:\n",
    "    print(f\"{num} is prime number\")\n"
   ]
  },
  {
   "cell_type": "code",
   "execution_count": null,
   "id": "8344cf3b",
   "metadata": {},
   "outputs": [
    {
     "name": "stdout",
     "output_type": "stream",
     "text": [
      "50 45 40 35 30 25 20 15 10 5 "
     ]
    }
   ],
   "source": [
    "x = 50\n",
    "while x>0:\n",
    "    print(x, end=\" \")\n",
    "    x-=5"
   ]
  },
  {
   "cell_type": "code",
   "execution_count": null,
   "id": "6c84a051",
   "metadata": {},
   "outputs": [],
   "source": []
  },
  {
   "cell_type": "code",
   "execution_count": 7,
   "id": "645b4b26",
   "metadata": {},
   "outputs": [
    {
     "name": "stdout",
     "output_type": "stream",
     "text": [
      "['apple', 'mango', 'apple', 'grpes', 'papaya', 'water milon', 'money', 'higest', 'breaking bad', 'stranger things', 'werdnesday', 'tomato', 'onion', 'grlic', 'chilli', 'potato', 'betroot']\n"
     ]
    }
   ],
   "source": [
    "fruits=['apple','mango','apple','grpes','papaya','water milon']\n",
    "series=['money', 'higest','breaking bad','stranger things','werdnesday']\n",
    "veg=['tomato','onion','grlic','chilli','potato','betroot']\n",
    "biglist = fruits + series + veg\n",
    "print(biglist)"
   ]
  },
  {
   "cell_type": "code",
   "execution_count": null,
   "id": "c2a8a60c",
   "metadata": {},
   "outputs": [],
   "source": [
    "x=[]\n",
    "x2=[[]]\n",
    "print(x)\n"
   ]
  },
  {
   "cell_type": "code",
   "execution_count": 11,
   "id": "8e37853b",
   "metadata": {},
   "outputs": [
    {
     "ename": "NameError",
     "evalue": "name 'x1' is not defined",
     "output_type": "error",
     "traceback": [
      "\u001b[31m---------------------------------------------------------------------------\u001b[39m",
      "\u001b[31mNameError\u001b[39m                                 Traceback (most recent call last)",
      "\u001b[36mCell\u001b[39m\u001b[36m \u001b[39m\u001b[32mIn[11]\u001b[39m\u001b[32m, line 1\u001b[39m\n\u001b[32m----> \u001b[39m\u001b[32m1\u001b[39m \u001b[43mx1\u001b[49m.append(\u001b[32m1\u001b[39m)\n\u001b[32m      2\u001b[39m x2.append([\u001b[32m1\u001b[39m,\u001b[32m2\u001b[39m,\u001b[32m3\u001b[39m])\n\u001b[32m      3\u001b[39m x2.append([\u001b[32m4\u001b[39m,\u001b[32m5\u001b[39m,\u001b[32m6\u001b[39m])\n",
      "\u001b[31mNameError\u001b[39m: name 'x1' is not defined"
     ]
    }
   ],
   "source": [
    "x1.append(1)\n",
    "x2.append([1,2,3])\n",
    "x2.append([4,5,6])\n",
    "print(x2)"
   ]
  },
  {
   "cell_type": "code",
   "execution_count": null,
   "id": "0ad4c14c",
   "metadata": {},
   "outputs": [],
   "source": [
    "item = [\n",
    "    ['red','green','blue']\n",
    "    ['apple','bananna','grapes']\n",
    "    ['100','150','300']\n",
    "]\n",
    "print(items)  \n",
    "print(\"size of list\",len(items))\n",
    "print(\"size of list at index 0 is\", len(items[0]),\"=>\",items[0]\")\n",
    "print(\"size of list at index 1 is\", len(items[0]),\"=>\",items[1]\")\n",
    "print(\"size of list at index 2 is\", len(items[0]),\"=>\",items[2]\")\n",
    "print(\"element 0 as list 2 is\",len(items[0])\n",
    "print(\"element 1 as list 2 is\",len(items[1])\n",
    "print(\"element 0 as list 2 is\",len(items[0])\n",
    "print(\"element 1 as list 2 is\",len(items[1])\n",
    "print(\"element 0 as list 2 is\",len(items[0])\n",
    "print(\"element 1 as list 2 is\",len(items[1])\n",
    "print(\"element 0 as list 2 is\",len(items[0])\n",
    "print(\"element 1 as list 2 is\",len(items[1])\n",
    "print(\"element 0 as list 2 is\",len(items[0])\n",
    "print(\"element 1 as list 2 is\",len(items[1])\n",
    "print(\"element 0 as list 2 is\",len(items[0])\n"
   ]
  },
  {
   "cell_type": "code",
   "execution_count": 15,
   "id": "ff048bd0",
   "metadata": {},
   "outputs": [
    {
     "ename": "NameError",
     "evalue": "name 'matrix' is not defined",
     "output_type": "error",
     "traceback": [
      "\u001b[31m---------------------------------------------------------------------------\u001b[39m",
      "\u001b[31mNameError\u001b[39m                                 Traceback (most recent call last)",
      "\u001b[36mCell\u001b[39m\u001b[36m \u001b[39m\u001b[32mIn[15]\u001b[39m\u001b[32m, line 1\u001b[39m\n\u001b[32m----> \u001b[39m\u001b[32m1\u001b[39m \u001b[38;5;28mprint\u001b[39m(\u001b[43mmatrix\u001b[49m[\u001b[32m0\u001b[39m])\n\u001b[32m      2\u001b[39m \u001b[38;5;28mprint\u001b[39m(matrix[\u001b[32m1\u001b[39m])\n\u001b[32m      3\u001b[39m \u001b[38;5;28mprint\u001b[39m(matrix[\u001b[32m2\u001b[39m])\n",
      "\u001b[31mNameError\u001b[39m: name 'matrix' is not defined"
     ]
    }
   ],
   "source": [
    "print(matrix[0])\n",
    "print(matrix[1])\n",
    "print(matrix[2])"
   ]
  },
  {
   "cell_type": "code",
   "execution_count": null,
   "id": "41422570",
   "metadata": {},
   "outputs": [],
   "source": []
  }
 ],
 "metadata": {
  "kernelspec": {
   "display_name": "Python 3",
   "language": "python",
   "name": "python3"
  },
  "language_info": {
   "codemirror_mode": {
    "name": "ipython",
    "version": 3
   },
   "file_extension": ".py",
   "mimetype": "text/x-python",
   "name": "python",
   "nbconvert_exporter": "python",
   "pygments_lexer": "ipython3",
   "version": "3.13.6"
  }
 },
 "nbformat": 4,
 "nbformat_minor": 5
}

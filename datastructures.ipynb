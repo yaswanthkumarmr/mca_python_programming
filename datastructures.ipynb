{
 "cells": [
  {
   "cell_type": "code",
   "execution_count": 1,
   "id": "65808b10",
   "metadata": {},
   "outputs": [
    {
     "name": "stdout",
     "output_type": "stream",
     "text": [
      "['apple', 'cherry', 'avacado']\n"
     ]
    }
   ],
   "source": [
    "x=[]    #empty\n",
    "x=()    #empty\n",
    "y=[1,2,3]    #direct instilization\n",
    "z=[]\n",
    "z.append(\"apple\")  #adding a single value\n",
    "z.append(\"cherry\")\n",
    "z.append(\"avacado\")\n",
    "print(z)"
   ]
  },
  {
   "cell_type": "code",
   "execution_count": 3,
   "id": "37a02a79",
   "metadata": {},
   "outputs": [
    {
     "name": "stdout",
     "output_type": "stream",
     "text": [
      "[1, 2, 3] [4, 5, 6] [1, 2, 3, 4, 5, 6]\n"
     ]
    }
   ],
   "source": [
    "x = [1, 2, 3]\n",
    "y = [4, 5, 6]\n",
    "z = x+y\n",
    "print(x, y, z)"
   ]
  },
  {
   "cell_type": "code",
   "execution_count": 4,
   "id": "5697970a",
   "metadata": {},
   "outputs": [
    {
     "name": "stdout",
     "output_type": "stream",
     "text": [
      "[1, 1, 1, 1, 1, 1, 1, 1, 1, 1]\n",
      "[1, 2, 1, 2, 1, 2, 1, 2, 1, 2]\n",
      "[1, 1, 1, 1, 1, 1, 1, 1, 1, 1, 1, 1, 1, 1, 1, 1, 1, 1, 1, 1]\n"
     ]
    }
   ],
   "source": [
    "a =[1]*10 # cloning\n",
    "print(a)\n",
    "b = [1, 2]*5\n",
    "c = a*2\n",
    "print(b)\n",
    "print(c)"
   ]
  },
  {
   "cell_type": "code",
   "execution_count": 6,
   "id": "9df2a2cd",
   "metadata": {},
   "outputs": [
    {
     "name": "stdout",
     "output_type": "stream",
     "text": [
      "[1, 1, 1, 1, 1, 1, 1, 1, 1, 1]\n",
      "1\n",
      "1\n",
      "1 1\n",
      "1\n",
      "1\n",
      "1 1\n",
      "1\n",
      "1\n",
      "1 1\n",
      "1\n",
      "1\n",
      "1 1\n",
      "1\n",
      "1\n",
      "1 1\n",
      "1\n",
      "1\n",
      "1 1\n",
      "1\n",
      "1\n",
      "1 1\n",
      "1\n",
      "1\n",
      "1 1\n",
      "1\n",
      "1\n",
      "1 1\n",
      "1\n",
      "1\n",
      "1 1\n"
     ]
    }
   ],
   "source": [
    "print(a)\n",
    "for item in a:\n",
    "    print(item)\n",
    "    print(a[0])\n",
    "    print(a[3], a[5])"
   ]
  },
  {
   "cell_type": "code",
   "execution_count": null,
   "id": "e88f7ac1",
   "metadata": {},
   "outputs": [],
   "source": []
  },
  {
   "cell_type": "code",
   "execution_count": null,
   "id": "b0e09f22",
   "metadata": {},
   "outputs": [],
   "source": [
    "students = [\"anjali\", \"sameer\", \"srikanth\", \"yaswanth\", \"vamsi\", \"ram\", \"sumithra\", \"lahari\", \"jyoshna\", \"ajay\", \"balji\", \n",
    "            \"abhi\", \"meghana\", \"srisha\", \"geetha\", \"bhargav\"]"
   ]
  },
  {
   "cell_type": "code",
   "execution_count": null,
   "id": "0b5402dc",
   "metadata": {},
   "outputs": [
    {
     "name": "stdout",
     "output_type": "stream",
     "text": [
      "['The Way Of King']\n",
      "['The Way Of King', 'The Final Empire', 'Steelheart', 'Legion']\n"
     ]
    }
   ],
   "source": [
    "books = []\n",
    "# adding one item at a time\n",
    "books.append(\"The Way Of King\")\n",
    "print(books)\n",
    "books.append(\"The Final Eire\")\n",
    "books.append(\"Steelheart\")\n",
    "books.append(\"Legion\")\n",
    "print(books)"
   ]
  },
  {
   "cell_type": "code",
   "execution_count": 2,
   "id": "9811db21",
   "metadata": {},
   "outputs": [
    {
     "name": "stdout",
     "output_type": "stream",
     "text": [
      "['red', 'green', 'blue', 'yellow', 'black']\n"
     ]
    }
   ],
   "source": [
    "\n",
    "colors = ['red', 'green', 'blue']\n",
    "colors.extend(['yellow','black'])\n",
    "print(colors)\n",
    "\n",
    "\n",
    "\n",
    "\n",
    "\n",
    "\n",
    "\n",
    "\n"
   ]
  },
  {
   "cell_type": "code",
   "execution_count": 3,
   "id": "9fcdb862",
   "metadata": {},
   "outputs": [
    {
     "name": "stdout",
     "output_type": "stream",
     "text": [
      "['red', 'green', 'blue', 'yellow', 'black']\n",
      "['red', 'green', 'blue', 'yellow', 'black', 'purple', 'pink', 'yellow']\n"
     ]
    }
   ],
   "source": [
    "colors = ['red', 'green', 'blue']\n",
    "colors.extend(['yellow','black'])\n",
    "print(colors)\n",
    "colors2 =[\"purple\", \"pink\", \"yellow\"]\n",
    "colors.extend(colors2)\n",
    "print(colors)"
   ]
  },
  {
   "cell_type": "code",
   "execution_count": 6,
   "id": "74b78825",
   "metadata": {},
   "outputs": [
    {
     "name": "stdout",
     "output_type": "stream",
     "text": [
      "[1, 2, 3, 4, 5, 6, 7, 8, 9, 10]\n"
     ]
    }
   ],
   "source": [
    "a =[]\n",
    "for i in range(1, 11):\n",
    "    a.append(i)\n",
    "print(a)\n"
   ]
  },
  {
   "cell_type": "code",
   "execution_count": 12,
   "id": "0b963c23",
   "metadata": {},
   "outputs": [
    {
     "name": "stdout",
     "output_type": "stream",
     "text": [
      "[1, 6, 5, 10]\n"
     ]
    }
   ],
   "source": [
    "x = [1,5,10]\n",
    "x.insert(1,6)\n",
    "print(x)\n"
   ]
  },
  {
   "cell_type": "code",
   "execution_count": 13,
   "id": "cdc1666d",
   "metadata": {},
   "outputs": [
    {
     "name": "stdout",
     "output_type": "stream",
     "text": [
      "[1, 6, 5, 10]\n",
      "[1, 6, 3, 5, 9, 10]\n"
     ]
    }
   ],
   "source": [
    "x = [1,5,10]\n",
    "x.insert(1,6)\n",
    "print(x)\n",
    "x.insert(2, 3)\n",
    "x.insert(4, 9)\n",
    "print(x)"
   ]
  },
  {
   "cell_type": "code",
   "execution_count": null,
   "id": "e9bf868f",
   "metadata": {},
   "outputs": [],
   "source": []
  }
 ],
 "metadata": {
  "kernelspec": {
   "display_name": "Python 3",
   "language": "python",
   "name": "python3"
  },
  "language_info": {
   "codemirror_mode": {
    "name": "ipython",
    "version": 3
   },
   "file_extension": ".py",
   "mimetype": "text/x-python",
   "name": "python",
   "nbconvert_exporter": "python",
   "pygments_lexer": "ipython3",
   "version": "3.13.6"
  }
 },
 "nbformat": 4,
 "nbformat_minor": 5
}

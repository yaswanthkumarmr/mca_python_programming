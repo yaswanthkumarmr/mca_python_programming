{
 "cells": [
  {
   "cell_type": "code",
   "execution_count": 1,
   "id": "65808b10",
   "metadata": {},
   "outputs": [
    {
     "name": "stdout",
     "output_type": "stream",
     "text": [
      "['apple', 'cherry', 'avacado']\n"
     ]
    }
   ],
   "source": [
    "x=[]    #empty\n",
    "x=()    #empty\n",
    "y=[1,2,3]    #direct instilization\n",
    "z=[]\n",
    "z.append(\"apple\")  #adding a single value\n",
    "z.append(\"cherry\")\n",
    "z.append(\"avacado\")\n",
    "print(z)"
   ]
  },
  {
   "cell_type": "code",
   "execution_count": 3,
   "id": "37a02a79",
   "metadata": {},
   "outputs": [
    {
     "name": "stdout",
     "output_type": "stream",
     "text": [
      "[1, 2, 3] [4, 5, 6] [1, 2, 3, 4, 5, 6]\n"
     ]
    }
   ],
   "source": [
    "x = [1, 2, 3]\n",
    "y = [4, 5, 6]\n",
    "z = x+y\n",
    "print(x, y, z)"
   ]
  },
  {
   "cell_type": "code",
   "execution_count": 4,
   "id": "5697970a",
   "metadata": {},
   "outputs": [
    {
     "name": "stdout",
     "output_type": "stream",
     "text": [
      "[1, 1, 1, 1, 1, 1, 1, 1, 1, 1]\n",
      "[1, 2, 1, 2, 1, 2, 1, 2, 1, 2]\n",
      "[1, 1, 1, 1, 1, 1, 1, 1, 1, 1, 1, 1, 1, 1, 1, 1, 1, 1, 1, 1]\n"
     ]
    }
   ],
   "source": [
    "a =[1]*10 # cloning\n",
    "print(a)\n",
    "b = [1, 2]*5\n",
    "c = a*2\n",
    "print(b)\n",
    "print(c)"
   ]
  },
  {
   "cell_type": "code",
   "execution_count": 6,
   "id": "9df2a2cd",
   "metadata": {},
   "outputs": [
    {
     "name": "stdout",
     "output_type": "stream",
     "text": [
      "[1, 1, 1, 1, 1, 1, 1, 1, 1, 1]\n",
      "1\n",
      "1\n",
      "1 1\n",
      "1\n",
      "1\n",
      "1 1\n",
      "1\n",
      "1\n",
      "1 1\n",
      "1\n",
      "1\n",
      "1 1\n",
      "1\n",
      "1\n",
      "1 1\n",
      "1\n",
      "1\n",
      "1 1\n",
      "1\n",
      "1\n",
      "1 1\n",
      "1\n",
      "1\n",
      "1 1\n",
      "1\n",
      "1\n",
      "1 1\n",
      "1\n",
      "1\n",
      "1 1\n"
     ]
    }
   ],
   "source": [
    "print(a)\n",
    "for item in a:\n",
    "    print(item)\n",
    "    print(a[0])\n",
    "    print(a[3], a[5])"
   ]
  },
  {
   "cell_type": "code",
   "execution_count": null,
   "id": "e88f7ac1",
   "metadata": {},
   "outputs": [],
   "source": []
  },
  {
   "cell_type": "code",
   "execution_count": null,
   "id": "b0e09f22",
   "metadata": {},
   "outputs": [],
   "source": [
    "students = [\"anjali\", \"sameer\", \"srikanth\", \"yaswanth\", \"vamsi\", \"ram\", \"sumithra\", \"lahari\", \"jyoshna\", \"ajay\", \"balji\", \n",
    "            \"abhi\", \"meghana\", \"srisha\", \"geetha\", \"bhargav\"]"
   ]
  },
  {
   "cell_type": "code",
   "execution_count": null,
   "id": "0b5402dc",
   "metadata": {},
   "outputs": [
    {
     "name": "stdout",
     "output_type": "stream",
     "text": [
      "['The Way Of King']\n",
      "['The Way Of King', 'The Final Empire', 'Steelheart', 'Legion']\n"
     ]
    }
   ],
   "source": [
    "books = []\n",
    "# adding one item at a time\n",
    "books.append(\"The Way Of King\")\n",
    "print(books)\n",
    "books.append(\"The Final Eire\")\n",
    "books.append(\"Steelheart\")\n",
    "books.append(\"Legion\")\n",
    "print(books)"
   ]
  },
  {
   "cell_type": "code",
   "execution_count": 2,
   "id": "9811db21",
   "metadata": {},
   "outputs": [
    {
     "name": "stdout",
     "output_type": "stream",
     "text": [
      "['red', 'green', 'blue', 'yellow', 'black']\n"
     ]
    }
   ],
   "source": [
    "\n",
    "colors = ['red', 'green', 'blue']\n",
    "colors.extend(['yellow','black'])\n",
    "print(colors)\n",
    "\n",
    "\n",
    "\n",
    "\n",
    "\n",
    "\n",
    "\n",
    "\n"
   ]
  },
  {
   "cell_type": "code",
   "execution_count": 3,
   "id": "9fcdb862",
   "metadata": {},
   "outputs": [
    {
     "name": "stdout",
     "output_type": "stream",
     "text": [
      "['red', 'green', 'blue', 'yellow', 'black']\n",
      "['red', 'green', 'blue', 'yellow', 'black', 'purple', 'pink', 'yellow']\n"
     ]
    }
   ],
   "source": [
    "colors = ['red', 'green', 'blue']\n",
    "colors.extend(['yellow','black'])\n",
    "print(colors)\n",
    "colors2 =[\"purple\", \"pink\", \"yellow\"]\n",
    "colors.extend(colors2)\n",
    "print(colors)"
   ]
  },
  {
   "cell_type": "code",
   "execution_count": 6,
   "id": "74b78825",
   "metadata": {},
   "outputs": [
    {
     "name": "stdout",
     "output_type": "stream",
     "text": [
      "[1, 2, 3, 4, 5, 6, 7, 8, 9, 10]\n"
     ]
    }
   ],
   "source": [
    "a =[]\n",
    "for i in range(1, 11):\n",
    "    a.append(i)\n",
    "print(a)\n"
   ]
  },
  {
   "cell_type": "code",
   "execution_count": 12,
   "id": "0b963c23",
   "metadata": {},
   "outputs": [
    {
     "name": "stdout",
     "output_type": "stream",
     "text": [
      "[1, 6, 5, 10]\n"
     ]
    }
   ],
   "source": [
    "x = [1,5,10]\n",
    "x.insert(1,6)\n",
    "print(x)\n"
   ]
  },
  {
   "cell_type": "code",
   "execution_count": 13,
   "id": "cdc1666d",
   "metadata": {},
   "outputs": [
    {
     "name": "stdout",
     "output_type": "stream",
     "text": [
      "[1, 6, 5, 10]\n",
      "[1, 6, 3, 5, 9, 10]\n"
     ]
    }
   ],
   "source": [
    "x = [1,5,10]\n",
    "x.insert(1,6)\n",
    "print(x)\n",
    "x.insert(2, 3)\n",
    "x.insert(4, 9)\n",
    "print(x)"
   ]
  },
  {
   "cell_type": "code",
   "execution_count": 1,
   "id": "e9bf868f",
   "metadata": {},
   "outputs": [
    {
     "name": "stdout",
     "output_type": "stream",
     "text": [
      "how many books in the list: 9\n",
      "['well of acsension', 'warbreaker', 'nightblood', 'the fina empire', 'the way of kinds', 'oathbringer', 'wind of truth', 'harry potter']\n"
     ]
    }
   ],
   "source": [
    "books = ['hero of ages','well of acsension','warbreaker','nightblood','the fina empire',\n",
    "         'the way of kinds','oathbringer','wind of truth', 'harry potter']\n",
    "print('how many books in the list:',len(books))\n",
    "books.remove(\"hero of ages\")\n",
    "print(books)"
   ]
  },
  {
   "cell_type": "code",
   "execution_count": 2,
   "id": "56015abc",
   "metadata": {},
   "outputs": [
    {
     "name": "stdout",
     "output_type": "stream",
     "text": [
      "['well of acsension', 'warbreaker', 'nightblood', 'the fina empire', 'the way of kinds', 'wind of truth', 'harry potter']\n"
     ]
    }
   ],
   "source": [
    "if \"oathbringer\" in books:\n",
    "    books.remove(\"oathbringer\")\n",
    "    print(books)"
   ]
  },
  {
   "cell_type": "code",
   "execution_count": 3,
   "id": "6b0a1e7b",
   "metadata": {},
   "outputs": [
    {
     "name": "stdout",
     "output_type": "stream",
     "text": [
      "['well of acsension', 'warbreaker', 'nightblood', 'the fina empire', 'the way of kinds', 'wind of truth', 'harry potter']\n",
      "7\n"
     ]
    }
   ],
   "source": [
    "print(books)\n",
    "print(len(books))"
   ]
  },
  {
   "cell_type": "code",
   "execution_count": 2,
   "id": "6b3c8d8b",
   "metadata": {},
   "outputs": [
    {
     "name": "stdout",
     "output_type": "stream",
     "text": [
      "['c', 'python', 'kotlin', 'java', 'dart', 'go', 'c++', 'c#', 'html', 'javascript', 'scala', 'pust', 'mojo', 'assembly']\n",
      "[12, 56, 67, 13, 23, 23, 12, 56, 23, 33, 12, 22, 45, 66, 88, 32, 34, 45, 55, 66]\n",
      "[1, 'gova', 2, 'apple', 3, 'mango']\n",
      "14\n",
      "20\n",
      "6\n"
     ]
    }
   ],
   "source": [
    "languages = ['c','python','kotlin','java',\n",
    "             'dart','go','c++','c#',\n",
    "             'html','javascript','scala',\n",
    "             'pust','mojo','assembly']\n",
    "\n",
    "numbers = [12, 56, 67, 13, 23, \n",
    "           23, 12, 56, 23, 33,\n",
    "           12, 22, 45, 66, 88, \n",
    "           32, 34, 45, 55, 66]\n",
    "data = [1, \"gova\", 2 ,\"apple\", 3 ,\"mango\"]\n",
    "\n",
    "print(languages)\n",
    "print(numbers)\n",
    "print(data)\n",
    "print(len(languages))\n",
    "print(len(numbers))\n",
    "print(len(data))"
   ]
  },
  {
   "cell_type": "code",
   "execution_count": 3,
   "id": "fec77781",
   "metadata": {},
   "outputs": [
    {
     "name": "stdout",
     "output_type": "stream",
     "text": [
      "1\n",
      "3\n",
      "0\n"
     ]
    }
   ],
   "source": [
    "print(numbers.count(33))\n",
    "print(numbers.count(23))\n",
    "print(numbers.count(0))\n"
   ]
  },
  {
   "cell_type": "code",
   "execution_count": null,
   "id": "19fc4449",
   "metadata": {},
   "outputs": [],
   "source": [
    "x = [1, 2, 3, 4]\n",
    "y = x\n",
    "z = "
   ]
  },
  {
   "cell_type": "code",
   "execution_count": 16,
   "id": "32107faa",
   "metadata": {},
   "outputs": [],
   "source": [
    "matrix = [\n",
    "    [12,34,56,7],\n",
    "    [1,34,6,67],\n",
    "    [12,4,56,6],\n",
    "]"
   ]
  },
  {
   "cell_type": "code",
   "execution_count": 17,
   "id": "4a5cf21d",
   "metadata": {},
   "outputs": [
    {
     "name": "stdout",
     "output_type": "stream",
     "text": [
      "[12, 34, 56, 7]\n",
      "[1, 34, 6, 67]\n",
      "[12, 4, 56, 6]\n"
     ]
    }
   ],
   "source": [
    "print(matrix[0])\n",
    "print(matrix[1])\n",
    "print(matrix[2])"
   ]
  },
  {
   "cell_type": "code",
   "execution_count": 18,
   "id": "f0ef7a1d",
   "metadata": {},
   "outputs": [
    {
     "name": "stdout",
     "output_type": "stream",
     "text": [
      "12 34 56 7 \n",
      "1 34 6 67 \n",
      "12 4 56 6 \n"
     ]
    }
   ],
   "source": [
    "for row in matrix:\n",
    "    for value in row:\n",
    "        print(value, end=' ')\n",
    "    print()"
   ]
  },
  {
   "cell_type": "code",
   "execution_count": 19,
   "id": "20f3402c",
   "metadata": {},
   "outputs": [
    {
     "name": "stdout",
     "output_type": "stream",
     "text": [
      "295\n"
     ]
    }
   ],
   "source": [
    "total = 0\n",
    "for row in matrix:\n",
    "    for value in row:\n",
    "        total += value\n",
    "print(total)"
   ]
  },
  {
   "cell_type": "code",
   "execution_count": null,
   "id": "41ce2381",
   "metadata": {},
   "outputs": [],
   "source": [
    "total=0\n",
    "for i in matrix:\n",
    "    for prd\n",
    "    \n",
    "    "
   ]
  },
  {
   "cell_type": "code",
   "execution_count": 20,
   "id": "7734f95d",
   "metadata": {},
   "outputs": [
    {
     "name": "stdout",
     "output_type": "stream",
     "text": [
      "[12, 34, 56, 7] => 12\n",
      "[12, 34, 56, 7] => 46\n",
      "[12, 34, 56, 7] => 102\n",
      "[12, 34, 56, 7] => 109\n",
      "[1, 34, 6, 67] => 1\n",
      "[1, 34, 6, 67] => 35\n",
      "[1, 34, 6, 67] => 41\n",
      "[1, 34, 6, 67] => 108\n",
      "[12, 4, 56, 6] => 12\n",
      "[12, 4, 56, 6] => 16\n",
      "[12, 4, 56, 6] => 72\n",
      "[12, 4, 56, 6] => 78\n"
     ]
    }
   ],
   "source": [
    "for row in matrix:\n",
    "    total=0\n",
    "    for value in row:\n",
    "        total += value\n",
    "        print(row, '=>', total)"
   ]
  },
  {
   "cell_type": "code",
   "execution_count": 25,
   "id": "0e4c79f3",
   "metadata": {},
   "outputs": [
    {
     "name": "stdout",
     "output_type": "stream",
     "text": [
      "27.2 => 109\n",
      "27.0 => 108\n",
      "19.5 => 78\n"
     ]
    }
   ],
   "source": [
    "for row in matrix:\n",
    "    total=0\n",
    "    for value in row:\n",
    "        total +=value\n",
    "    avg = round(total/len(row),1) \n",
    "       \n",
    "    print(avg , '=>', total)"
   ]
  },
  {
   "cell_type": "markdown",
   "id": "f0ffedff",
   "metadata": {},
   "source": [
    "wap to print coloumn wise sum of matrix"
   ]
  },
  {
   "cell_type": "code",
   "execution_count": null,
   "id": "de7a474c",
   "metadata": {},
   "outputs": [
    {
     "name": "stdout",
     "output_type": "stream",
     "text": [
      "coloumn 3  => 80\n"
     ]
    }
   ],
   "source": [
    "size = len (matrix[0])\n",
    "for c in range(size):\n",
    "    total=0\n",
    "    for r in range(len(matrix)):\n",
    "        total  += matrix[r][c]\n",
    "print(f\"coloumn {c}  => {total}\")        \n",
    "    "
   ]
  },
  {
   "cell_type": "code",
   "execution_count": 38,
   "id": "57535a4a",
   "metadata": {},
   "outputs": [
    {
     "name": "stdout",
     "output_type": "stream",
     "text": [
      "rows 3  => 80\n"
     ]
    }
   ],
   "source": [
    "size = len (matrix[0])\n",
    "for r in range(size):\n",
    "    total=0\n",
    "    for  r in range(len(matrix)):\n",
    "        total  += matrix[r][c]\n",
    "print(f\"rows {c}  => {total}\")"
   ]
  },
  {
   "cell_type": "code",
   "execution_count": 2,
   "id": "98c19635",
   "metadata": {},
   "outputs": [
    {
     "data": {
      "text/plain": [
       "[13, 15, 19]"
      ]
     },
     "execution_count": 2,
     "metadata": {},
     "output_type": "execute_result"
    }
   ],
   "source": [
    "x = [11, 12, 13, 15, 19]\n",
    "x[0:3]\n",
    "x[2:len(x)]"
   ]
  },
  {
   "cell_type": "markdown",
   "id": "7b0ff944",
   "metadata": {
    "vscode": {
     "languageId": "bat"
    }
   },
   "source": [
    "#syntax for slicing\n",
    "var [start : stop : step] #\n"
   ]
  },
  {
   "cell_type": "code",
   "execution_count": 13,
   "id": "12972f81",
   "metadata": {},
   "outputs": [
    {
     "data": {
      "text/plain": [
       "' shakespear'"
      ]
     },
     "execution_count": 13,
     "metadata": {},
     "output_type": "execute_result"
    }
   ],
   "source": [
    "name = \"william shakespeare\"\n",
    "name[8 :13]\n",
    "name[-12:-1]"
   ]
  },
  {
   "cell_type": "code",
   "execution_count": 18,
   "id": "07f02ba1",
   "metadata": {},
   "outputs": [
    {
     "data": {
      "text/plain": [
       "'uyaaiywtka'"
      ]
     },
     "execution_count": 18,
     "metadata": {},
     "output_type": "execute_result"
    }
   ],
   "source": [
    "name = \"Muthyala Ramaih yaswanth kumar\"\n",
    "name[1 : : 3]"
   ]
  },
  {
   "cell_type": "code",
   "execution_count": 13,
   "id": "7ee5bbba",
   "metadata": {},
   "outputs": [
    {
     "data": {
      "text/plain": [
       "'vjydeaahcahn'"
      ]
     },
     "execution_count": 13,
     "metadata": {},
     "output_type": "execute_result"
    }
   ],
   "source": [
    "name = \"vijay deenanath chavhan\"\n",
    "name[ : 5]\n",
    "name[6 : 15]\n",
    "name[-7 :]\n",
    "name[: : 2]"
   ]
  },
  {
   "cell_type": "code",
   "execution_count": 14,
   "id": "14895da6",
   "metadata": {},
   "outputs": [
    {
     "name": "stdout",
     "output_type": "stream",
     "text": [
      "13\n",
      "11\n",
      "9\n",
      "6\n",
      "5\n",
      "4\n",
      "3\n",
      "2\n",
      "1\n"
     ]
    }
   ],
   "source": [
    "x = [1, 2, 3, 4, 5, 6, 9, 11, 13]\n",
    "for item in x[: : -1]:\n",
    "    print(item)"
   ]
  },
  {
   "cell_type": "markdown",
   "id": "41b3f045",
   "metadata": {},
   "source": [
    "reverse a list in place"
   ]
  },
  {
   "cell_type": "code",
   "execution_count": 16,
   "id": "8914189d",
   "metadata": {},
   "outputs": [],
   "source": [
    "\n",
    "a = [1, 2, 3]\n",
    "a[:] #get all element\n",
    "a[:]=a[: : -1]"
   ]
  },
  {
   "cell_type": "code",
   "execution_count": 17,
   "id": "558292fd",
   "metadata": {},
   "outputs": [
    {
     "name": "stdout",
     "output_type": "stream",
     "text": [
      "[1, 2, 3, 4, 5] [3, 4, 5, 1, 2]\n"
     ]
    }
   ],
   "source": [
    "x = [1, 2, 3, 4, 5]\n",
    "ans = x[2 :] + x[: 2]\n",
    "print(x, ans)"
   ]
  },
  {
   "cell_type": "markdown",
   "id": "f8ce5cfe",
   "metadata": {},
   "source": [
    "comperhension"
   ]
  },
  {
   "cell_type": "code",
   "execution_count": 19,
   "id": "3d642e21",
   "metadata": {},
   "outputs": [
    {
     "name": "stdout",
     "output_type": "stream",
     "text": [
      "[1, 3, 4, 5] [2]\n",
      "[1, 3, 4, 5] [2, 6]\n",
      "[1, 3, 4, 5] [2, 6, 8]\n",
      "[1, 3, 4, 5] [2, 6, 8, 10]\n"
     ]
    }
   ],
   "source": [
    "x = [1, 3, 4, 5]\n",
    "x2 =[ ]\n",
    "for i in x:\n",
    "    s = i*2\n",
    "    x2.append(s)\n",
    "    print(x, x2)"
   ]
  },
  {
   "cell_type": "code",
   "execution_count": null,
   "id": "e0094da4",
   "metadata": {},
   "outputs": [],
   "source": []
  },
  {
   "cell_type": "code",
   "execution_count": 20,
   "id": "49ab75ce",
   "metadata": {},
   "outputs": [
    {
     "name": "stdout",
     "output_type": "stream",
     "text": [
      "[4, 8, 12, 16] [2]\n",
      "[4, 8, 12, 16] [2, 4]\n",
      "[4, 8, 12, 16] [2, 4, 6]\n",
      "[4, 8, 12, 16] [2, 4, 6, 8]\n"
     ]
    }
   ],
   "source": [
    "x = [4, 8, 12, 16]\n",
    "x3 = []\n",
    "for i in x:\n",
    "    x3.append(i//2)\n",
    "    print(x,x3)"
   ]
  },
  {
   "cell_type": "code",
   "execution_count": 24,
   "id": "aa30f755",
   "metadata": {},
   "outputs": [
    {
     "name": "stdout",
     "output_type": "stream",
     "text": [
      "[1, 2, 3]\n",
      "[4, 5, 6]\n",
      "[5, 7, 9, 5, 7, 9]\n"
     ]
    }
   ],
   "source": [
    "x = [1, 2, 3]\n",
    "y = [4, 5, 6]\n",
    "xy = [5, 7, 9]\n",
    "for i, j in zip(x, y):\n",
    "    xy.append(i+j)\n",
    "print(x, y, xy, sep =(\"\\n\"))\n"
   ]
  },
  {
   "cell_type": "code",
   "execution_count": null,
   "id": "19531e99",
   "metadata": {},
   "outputs": [],
   "source": [
    "z = [2, 3, 4]\n",
    "zsqr = [ ]\n",
    "for i in z:\n",
    "    zsqr.append(i**2)2"
   ]
  },
  {
   "cell_type": "code",
   "execution_count": 1,
   "id": "f2a0f4b4",
   "metadata": {},
   "outputs": [
    {
     "name": "stdout",
     "output_type": "stream",
     "text": [
      "(1, 2, 3)\n"
     ]
    }
   ],
   "source": [
    "my_tuple = (1, 2, 3)\n",
    "print(my_tuple)"
   ]
  },
  {
   "cell_type": "code",
   "execution_count": 2,
   "id": "b0351b07",
   "metadata": {},
   "outputs": [
    {
     "name": "stdout",
     "output_type": "stream",
     "text": [
      "(1, 'hello', 3.4)\n"
     ]
    }
   ],
   "source": [
    "my_tuple = (1, \"hello\", 3.4)\n",
    "print(my_tuple)"
   ]
  },
  {
   "cell_type": "code",
   "execution_count": 3,
   "id": "c7168eca",
   "metadata": {},
   "outputs": [
    {
     "name": "stdout",
     "output_type": "stream",
     "text": [
      "('mouse', [8, 4, 6], (1, 2, 3))\n"
     ]
    }
   ],
   "source": [
    "my_tuple = (\"mouse\", [8, 4, 6], (1, 2, 3))\n",
    "print(my_tuple)"
   ]
  },
  {
   "cell_type": "code",
   "execution_count": 4,
   "id": "2490bf81",
   "metadata": {},
   "outputs": [
    {
     "name": "stdout",
     "output_type": "stream",
     "text": [
      "(3, 4, 5, 'apple')\n"
     ]
    }
   ],
   "source": [
    "my_tuple = 3, 4, 5, \"apple\"\n",
    "print(my_tuple)"
   ]
  },
  {
   "cell_type": "code",
   "execution_count": 5,
   "id": "6b6c8e29",
   "metadata": {},
   "outputs": [
    {
     "name": "stdout",
     "output_type": "stream",
     "text": [
      "p\n",
      "t\n"
     ]
    }
   ],
   "source": [
    "my_tuple = ('p','e','r','m','i','t')\n",
    "\n",
    "print(my_tuple[0])\n",
    "print(my_tuple[5])"
   ]
  },
  {
   "cell_type": "code",
   "execution_count": 7,
   "id": "2af212ca",
   "metadata": {},
   "outputs": [
    {
     "name": "stdout",
     "output_type": "stream",
     "text": [
      "s\n",
      "4\n"
     ]
    }
   ],
   "source": [
    "n_tuple = (\"mouse\", [8, 4, 6], (1, 2, 3,))\n",
    "print(n_tuple[0][3])\n",
    "print(n_tuple[1][1])"
   ]
  },
  {
   "cell_type": "code",
   "execution_count": 3,
   "id": "111efc09",
   "metadata": {},
   "outputs": [
    {
     "name": "stdout",
     "output_type": "stream",
     "text": [
      "(1, 2, 3, 4, 5, 6)\n"
     ]
    }
   ],
   "source": [
    "print((1, 2, 3) + (4, 5, 6))"
   ]
  },
  {
   "cell_type": "code",
   "execution_count": 4,
   "id": "570b05f7",
   "metadata": {},
   "outputs": [
    {
     "name": "stdout",
     "output_type": "stream",
     "text": [
      "('peapat', 'peapat', 'peapat')\n"
     ]
    }
   ],
   "source": [
    "print((\"peapat\",) *3)"
   ]
  },
  {
   "cell_type": "code",
   "execution_count": 5,
   "id": "f0b9d932",
   "metadata": {},
   "outputs": [
    {
     "name": "stdout",
     "output_type": "stream",
     "text": [
      "2\n",
      "3\n"
     ]
    }
   ],
   "source": [
    "\n",
    "my_tuple = ('a', 'p', 'p', 'l', 'e')\n",
    "print(my_tuple.count('p'))\n",
    "print(my_tuple.index('l'))"
   ]
  },
  {
   "cell_type": "markdown",
   "id": "fa663fc9",
   "metadata": {},
   "source": [
    "string creation"
   ]
  },
  {
   "cell_type": "code",
   "execution_count": 4,
   "id": "649ef7df",
   "metadata": {},
   "outputs": [],
   "source": [
    "\n",
    "a = 'apple'\n",
    "b = \"banana\"\n",
    "c = '''this is chocalate cake'''\n"
   ]
  },
  {
   "cell_type": "markdown",
   "id": "ecdc38b0",
   "metadata": {},
   "source": [
    "typecaping"
   ]
  },
  {
   "cell_type": "code",
   "execution_count": 2,
   "id": "5a42b953",
   "metadata": {},
   "outputs": [
    {
     "name": "stdout",
     "output_type": "stream",
     "text": [
      "10 <class 'str'>\n",
      "['apple', 'banana'] <class 'str'>\n"
     ]
    }
   ],
   "source": [
    "\n",
    "x=str(10)\n",
    "y=str([\"apple\" ,\"banana\"])\n",
    "print(x , type(x))\n",
    "print(y , type(y))"
   ]
  },
  {
   "cell_type": "markdown",
   "id": "4b176600",
   "metadata": {},
   "source": [
    "slicing and indexing"
   ]
  },
  {
   "cell_type": "code",
   "execution_count": 6,
   "id": "133283eb",
   "metadata": {},
   "outputs": [
    {
     "ename": "SyntaxError",
     "evalue": "invalid syntax (747850786.py, line 3)",
     "output_type": "error",
     "traceback": [
      "  \u001b[36mCell\u001b[39m\u001b[36m \u001b[39m\u001b[32mIn[6]\u001b[39m\u001b[32m, line 3\u001b[39m\n\u001b[31m    \u001b[39m\u001b[31mstring are immutable\u001b[39m\n           ^\n\u001b[31mSyntaxError\u001b[39m\u001b[31m:\u001b[39m invalid syntax\n"
     ]
    }
   ],
   "source": [
    "print(a[0])\n",
    "a[0]='c'\n",
    "string are immutable"
   ]
  },
  {
   "cell_type": "code",
   "execution_count": 10,
   "id": "2e2970ed",
   "metadata": {},
   "outputs": [
    {
     "name": "stdout",
     "output_type": "stream",
     "text": [
      "theointeis , iam not disapointed\n"
     ]
    }
   ],
   "source": [
    "x = 'disapointed'\n",
    "y = x[5:10]\n",
    "print(f\"the{y}is , iam not {x}\")"
   ]
  },
  {
   "cell_type": "code",
   "execution_count": 14,
   "id": "13bfe940",
   "metadata": {},
   "outputs": [
    {
     "name": "stdout",
     "output_type": "stream",
     "text": [
      "jony jony yes papa,\n"
     ]
    }
   ],
   "source": [
    "poem= '''jony jony yes papa,\n",
    "        eating sugur no papa,\n",
    "        teling lies no papa,\n",
    "        open your mouth ha ha ha,'''\n",
    "y = poem[0:19]\n",
    "print(f\"{y}\")"
   ]
  },
  {
   "cell_type": "code",
   "execution_count": null,
   "id": "05a0e6d7",
   "metadata": {},
   "outputs": [],
   "source": []
  }
 ],
 "metadata": {
  "kernelspec": {
   "display_name": "Python 3",
   "language": "python",
   "name": "python3"
  },
  "language_info": {
   "codemirror_mode": {
    "name": "ipython",
    "version": 3
   },
   "file_extension": ".py",
   "mimetype": "text/x-python",
   "name": "python",
   "nbconvert_exporter": "python",
   "pygments_lexer": "ipython3",
   "version": "3.13.6"
  }
 },
 "nbformat": 4,
 "nbformat_minor": 5
}

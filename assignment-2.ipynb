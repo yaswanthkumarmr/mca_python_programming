{
 "cells": [
  {
   "cell_type": "markdown",
   "id": "9ef4f30d",
   "metadata": {},
   "source": [
    "1. Age Checker\n",
    "\n",
    "# Write a program that takes an age as input and prints “Adult” if age >= 18, otherwise “Minor”.\n",
    "\n",
    "# Hint: Use if-else statement."
   ]
  },
  {
   "cell_type": "code",
   "execution_count": 1,
   "id": "a59f9881",
   "metadata": {},
   "outputs": [
    {
     "name": "stdout",
     "output_type": "stream",
     "text": [
      "Your are Adult\n"
     ]
    }
   ],
   "source": [
    "age=int(input(\"Enter your age\"))\n",
    "if age>=18:\n",
    "    print(\"Your are Adult\")\n",
    "else:\n",
    "    print(\"Your are minor\")"
   ]
  },
  {
   "cell_type": "markdown",
   "id": "8430a741",
   "metadata": {},
   "source": [
    "2. Even or Odd\n",
    "\n",
    "# Take a number as input and print “Even” if it’s even, “Odd” if it’s odd.\n",
    "\n",
    "# Hint: Use modulo operator % with if-else."
   ]
  },
  {
   "cell_type": "code",
   "execution_count": 4,
   "id": "d612fc0d",
   "metadata": {},
   "outputs": [
    {
     "name": "stdout",
     "output_type": "stream",
     "text": [
      "Odd\n"
     ]
    }
   ],
   "source": [
    "num = int(input(\"Enter a number: \"))\n",
    "if num % 2 == 0:\n",
    "    print(\"Even\")\n",
    "else:\n",
    "    print(\"Odd\")"
   ]
  },
  {
   "cell_type": "markdown",
   "id": "7a1c0b6f",
   "metadata": {},
   "source": [
    "3. Grade Calculator\n",
    "\n",
    "# Input a score (0-100) and print the grade: A (90-100), B (80-89), C (70-79), D (60-69), F (below 60).\n",
    "\n",
    "# Hint: Use if-elif-else chain."
   ]
  },
  {
   "cell_type": "code",
   "execution_count": 8,
   "id": "e59e7bf4",
   "metadata": {},
   "outputs": [
    {
     "name": "stdout",
     "output_type": "stream",
     "text": [
      "A\n"
     ]
    }
   ],
   "source": [
    "score = int(input(\"Enter your score: \"))\n",
    "if score >= 90:\n",
    "    print(\"A\")\n",
    "elif score >= 80:\n",
    "    print(\"B\")\n",
    "elif score >= 70:\n",
    "    print(\"C\")\n",
    "elif score >= 60:\n",
    "    print(\"D\")\n",
    "else:\n",
    "    print(\"F\")"
   ]
  },
  {
   "cell_type": "markdown",
   "id": "f929555e",
   "metadata": {},
   "source": [
    "4. Positive, Negative, or Zero\n",
    "\n",
    "# Take a number and print whether it’s positive, negative, or zero.\n",
    "\n",
    "# Hint: Use nested if statements or elif.\n",
    "\n"
   ]
  },
  {
   "cell_type": "code",
   "execution_count": 14,
   "id": "2a8a7fd7",
   "metadata": {},
   "outputs": [
    {
     "name": "stdout",
     "output_type": "stream",
     "text": [
      "Positive\n"
     ]
    }
   ],
   "source": [
    "num = float(input(\"Enter a number: \"))\n",
    "if num > 0:\n",
    "    print(\"Positive\")\n",
    "elif num < 0:\n",
    "    print(\"Negative\")\n",
    "else:\n",
    "    print(\"Zero\")"
   ]
  },
  {
   "cell_type": "markdown",
   "id": "4d19a82c",
   "metadata": {},
   "source": [
    "5. Sum of First N Numbers\n",
    "\n",
    "# Input N and print the sum of first N natural numbers using a loop.\n",
    "\n",
    "# Hint: Use for loop with range()."
   ]
  },
  {
   "cell_type": "code",
   "execution_count": 16,
   "id": "2df05c5f",
   "metadata": {},
   "outputs": [
    {
     "name": "stdout",
     "output_type": "stream",
     "text": [
      "Sum = 78\n"
     ]
    }
   ],
   "source": [
    "n = int(input(\"Enter a number: \"))\n",
    "total = 0\n",
    "for i in range(1, n+1):\n",
    "    total += i\n",
    "print(\"Sum =\", total)"
   ]
  },
  {
   "cell_type": "markdown",
   "id": "1f45b615",
   "metadata": {},
   "source": [
    "6. Factorial Calculation\n",
    "\n",
    "# Take a number N and calculate its factorial using a loop.\n",
    "\n",
    "# Hint: Use while loop or for loop, initialize result = 1.\n",
    "\n"
   ]
  },
  {
   "cell_type": "code",
   "execution_count": 22,
   "id": "a29324d2",
   "metadata": {},
   "outputs": [
    {
     "name": "stdout",
     "output_type": "stream",
     "text": [
      "Factorial = 3628800\n"
     ]
    }
   ],
   "source": [
    "n = int(input(\"Enter a number: \"))\n",
    "fact = 1\n",
    "for i in range(1, n+1):\n",
    "    fact *= i\n",
    "print(\"Factorial =\", fact)"
   ]
  },
  {
   "cell_type": "markdown",
   "id": "653644a3",
   "metadata": {},
   "source": [
    "7. Multiplication Table\n",
    "\n",
    "# Input a number and print its multiplication table from 1 to 10.\n",
    "\n",
    "# Hint: Use for loop with range(1, 11)."
   ]
  },
  {
   "cell_type": "code",
   "execution_count": 23,
   "id": "3fc0c82d",
   "metadata": {},
   "outputs": [
    {
     "name": "stdout",
     "output_type": "stream",
     "text": [
      "4 x 1 = 4\n",
      "4 x 2 = 8\n",
      "4 x 3 = 12\n",
      "4 x 4 = 16\n",
      "4 x 5 = 20\n",
      "4 x 6 = 24\n",
      "4 x 7 = 28\n",
      "4 x 8 = 32\n",
      "4 x 9 = 36\n",
      "4 x 10 = 40\n"
     ]
    }
   ],
   "source": [
    "n = int(input(\"Enter a number: \"))\n",
    "for i in range(1, 11):\n",
    "    print(n, \"x\", i, \"=\", n*i)\n",
    "    "
   ]
  },
  {
   "cell_type": "markdown",
   "id": "6cc3a7d8",
   "metadata": {},
   "source": [
    "8. Count Digits\n",
    "\n",
    "# Take a number and count how many digits it has using a loop.\n",
    "\n",
    "# Hint: Use while loop dividing by 10."
   ]
  },
  {
   "cell_type": "code",
   "execution_count": 29,
   "id": "6efdaa2a",
   "metadata": {},
   "outputs": [
    {
     "name": "stdout",
     "output_type": "stream",
     "text": [
      "Digits = 6\n"
     ]
    }
   ],
   "source": [
    "n = int(input(\"Enter a number: \"))\n",
    "count = 0\n",
    "while n > 0:\n",
    "    n //= 10\n",
    "    count += 1\n",
    "print(\"Digits =\", count)"
   ]
  },
  {
   "cell_type": "markdown",
   "id": "efc15404",
   "metadata": {},
   "source": [
    "9. Sum of Even Numbers\n",
    "\n",
    "# Input N and print sum of all even numbers from 1 to N.\n",
    "\n",
    "# Hint: Use for loop with if to check even."
   ]
  },
  {
   "cell_type": "code",
   "execution_count": 42,
   "id": "4cae4dc0",
   "metadata": {},
   "outputs": [
    {
     "name": "stdout",
     "output_type": "stream",
     "text": [
      "Sum of even numbers = 20\n"
     ]
    }
   ],
   "source": [
    "n = int(input(\"Enter a number: \"))\n",
    "total = 0\n",
    "for i in range(1, n+1):\n",
    "    if i % 2 == 0:\n",
    "        total += i\n",
    "print(\"Sum of even numbers =\", total)"
   ]
  },
  {
   "cell_type": "markdown",
   "id": "14eca3a4",
   "metadata": {},
   "source": [
    "10. Reverse a String\n",
    "\n",
    "# Take a string and print it in reverse using a loop.\n",
    "\n",
    "# Hint: Use for loop iterating backwards or build new string.\n",
    "\n"
   ]
  },
  {
   "cell_type": "code",
   "execution_count": 2,
   "id": "3d133e41",
   "metadata": {},
   "outputs": [
    {
     "name": "stdout",
     "output_type": "stream",
     "text": [
      "Reversed string: htnawsay\n"
     ]
    }
   ],
   "source": [
    "s = input(\"Enter a string: \")\n",
    "rev = \"\"\n",
    "for i in range(len(s)-1, -1, -1):\n",
    "    rev += s[i]\n",
    "print(\"Reversed string:\", rev)"
   ]
  },
  {
   "cell_type": "markdown",
   "id": "934789ad",
   "metadata": {},
   "source": [
    "11. Prime Number Check\n",
    "\n",
    "# Take a number and check if it’s prime.\n",
    "\n",
    "# Hint: Use loop to check divisibility, use break if divisible."
   ]
  },
  {
   "cell_type": "code",
   "execution_count": 57,
   "id": "f543ac5d",
   "metadata": {},
   "outputs": [
    {
     "name": "stdout",
     "output_type": "stream",
     "text": [
      "Prime\n"
     ]
    }
   ],
   "source": [
    "n = int(input(\"Enter a number: \"))\n",
    "if n <= 1:\n",
    "    print(\"Not Prime\")\n",
    "else:\n",
    "    for i in range(2, int(n**0.5)+1):\n",
    "        if n % i == 0:\n",
    "            print(\"Not Prime\")\n",
    "            break\n",
    "    else:\n",
    "        print(\"Prime\")"
   ]
  },
  {
   "cell_type": "markdown",
   "id": "91d41d89",
   "metadata": {},
   "source": [
    "12. Fibonacci Series\n",
    "\n",
    "# Input N and print first N Fibonacci numbers.\n",
    "\n",
    "# Hint: Use loop to generate sequence."
   ]
  },
  {
   "cell_type": "code",
   "execution_count": 67,
   "id": "85efe3f0",
   "metadata": {},
   "outputs": [
    {
     "name": "stdout",
     "output_type": "stream",
     "text": [
      "0 1 1 2 3 "
     ]
    }
   ],
   "source": [
    "n = int(input(\"Enter N: \"))\n",
    "a, b = 0, 1\n",
    "for i in range(n):\n",
    "    print(a, end=\" \")\n",
    "    a, b = b, a + b"
   ]
  },
  {
   "cell_type": "markdown",
   "id": "cdad0e28",
   "metadata": {},
   "source": [
    "13. List Iteration with Index\n",
    "\n",
    "# Take a list of names and print each with its index.\n",
    "\n",
    "# Hint: Use enumerate() function."
   ]
  },
  {
   "cell_type": "code",
   "execution_count": 68,
   "id": "9239ab2c",
   "metadata": {},
   "outputs": [
    {
     "name": "stdout",
     "output_type": "stream",
     "text": [
      "0 Sameer\n",
      "1 Tanjiro\n",
      "2 Zenitsu\n",
      "3 Inosuke\n"
     ]
    }
   ],
   "source": [
    "names = [\"Sameer\", \"Tanjiro\", \"Zenitsu\", \"Inosuke\"]\n",
    "for index, name in enumerate(names):\n",
    "    print(index, name)"
   ]
  },
  {
   "cell_type": "markdown",
   "id": "4aaa6947",
   "metadata": {},
   "source": [
    "14. Zip Two Lists\n",
    "\n",
    "# Take two lists of equal length and print pairs.\n",
    "\n",
    "# Hint: Use zip() function.\n",
    "\n"
   ]
  },
  {
   "cell_type": "code",
   "execution_count": 69,
   "id": "347f65f2",
   "metadata": {},
   "outputs": [
    {
     "name": "stdout",
     "output_type": "stream",
     "text": [
      "1 a\n",
      "2 b\n",
      "3 c\n"
     ]
    }
   ],
   "source": [
    "list1 = [1, 2, 3]\n",
    "list2 = [\"a\", \"b\", \"c\"]\n",
    "\n",
    "for a, b in zip(list1, list2):\n",
    "    print(a, b)"
   ]
  },
  {
   "cell_type": "markdown",
   "id": "0caa1d32",
   "metadata": {},
   "source": [
    "15. Dictionary from Two Lists\n",
    "\n",
    "# Take two lists (keys and values) and create a dictionary.\n",
    "\n",
    "# Hint: Use zip() and dict()."
   ]
  },
  {
   "cell_type": "code",
   "execution_count": 5,
   "id": "21f847a2",
   "metadata": {},
   "outputs": [
    {
     "name": "stdout",
     "output_type": "stream",
     "text": [
      "{'name': 'Yaswanth', 'age': 20, 'city': 'unknown'}\n"
     ]
    }
   ],
   "source": [
    "keys = [\"name\", \"age\", \"city\"]\n",
    "values = [\"Yaswanth\", 20, \"unknown\"]\n",
    "\n",
    "my_dict = dict(zip(keys, values))\n",
    "print(my_dict)"
   ]
  },
  {
   "cell_type": "markdown",
   "id": "d3735770",
   "metadata": {},
   "source": [
    "16. Loop with Else\n",
    "\n",
    "# Search for an item in a list and print message if not found.\n",
    "\n",
    "# Hint: Use for loop with else.\n",
    "\n"
   ]
  },
  {
   "cell_type": "code",
   "execution_count": 75,
   "id": "e6c66d73",
   "metadata": {},
   "outputs": [
    {
     "name": "stdout",
     "output_type": "stream",
     "text": [
      "Item found!\n"
     ]
    }
   ],
   "source": [
    "items = [\"apple\", \"banana\", \"cherry\"]\n",
    "search = input(\"Enter item to search: \")\n",
    "\n",
    "for item in items:\n",
    "    if item == search:\n",
    "        print(\"Item found!\")\n",
    "        break\n",
    "else:\n",
    "    print(\"Item not found!\")"
   ]
  },
  {
   "cell_type": "markdown",
   "id": "a701b56b",
   "metadata": {},
   "source": [
    "17. Break on Condition\n",
    "\n",
    "# Print numbers from 1 to 100, but stop when reaching a multiple of 7.\n",
    "\n",
    "# Hint: Use for loop with if and break."
   ]
  },
  {
   "cell_type": "code",
   "execution_count": 78,
   "id": "cea0e222",
   "metadata": {},
   "outputs": [
    {
     "name": "stdout",
     "output_type": "stream",
     "text": [
      "1\n",
      "2\n",
      "3\n",
      "4\n",
      "5\n",
      "6\n"
     ]
    }
   ],
   "source": [
    "for i in range(1, 101):\n",
    "    if i % 7 == 0:\n",
    "        break\n",
    "    print(i)"
   ]
  },
  {
   "cell_type": "markdown",
   "id": "401b0fa7",
   "metadata": {},
   "source": [
    "18. Continue Example\n",
    "\n",
    "# Print numbers from 1 to 10, skipping multiples of 3.\n",
    "\n",
    "# Hint: Use for loop with if and continue."
   ]
  },
  {
   "cell_type": "code",
   "execution_count": 79,
   "id": "c5077559",
   "metadata": {},
   "outputs": [
    {
     "name": "stdout",
     "output_type": "stream",
     "text": [
      "1\n",
      "2\n",
      "4\n",
      "5\n",
      "7\n",
      "8\n",
      "10\n"
     ]
    }
   ],
   "source": [
    "for i in range(1, 11):\n",
    "    if i % 3 == 0:\n",
    "        continue\n",
    "    print(i)"
   ]
  },
  {
   "cell_type": "markdown",
   "id": "c5f3b043",
   "metadata": {},
   "source": [
    "19. Pass Statement\n",
    "\n",
    "# Create a loop that does nothing for certain conditions.\n",
    "\n",
    "# Hint: Use pass in if block."
   ]
  },
  {
   "cell_type": "code",
   "execution_count": 80,
   "id": "3ab1c059",
   "metadata": {},
   "outputs": [
    {
     "name": "stdout",
     "output_type": "stream",
     "text": [
      "1\n",
      "2\n",
      "4\n",
      "5\n"
     ]
    }
   ],
   "source": [
    "for i in range(1, 6):\n",
    "    if i == 3:\n",
    "        pass\n",
    "    else:\n",
    "        print(i)"
   ]
  },
  {
   "cell_type": "markdown",
   "id": "eb10eb9b",
   "metadata": {},
   "source": [
    "20. List Comprehension\n",
    "\n",
    "# Create a list of squares of numbers from 1 to 10.\n",
    "\n",
    "# Hint: Use list comprehension [x**2 for x in range(1, 11)].\n",
    "\n"
   ]
  },
  {
   "cell_type": "code",
   "execution_count": 81,
   "id": "ae1752e7",
   "metadata": {},
   "outputs": [
    {
     "name": "stdout",
     "output_type": "stream",
     "text": [
      "[1, 4, 9, 16, 25, 36, 49, 64, 81, 100]\n"
     ]
    }
   ],
   "source": [
    "squares = [x**2 for x in range(1, 11)]\n",
    "print(squares)"
   ]
  },
  {
   "cell_type": "markdown",
   "id": "af08a2ae",
   "metadata": {},
   "source": [
    "21. Even Numbers Comprehension\n",
    "\n",
    "# Create a list of even numbers from 1 to 20 using comprehension.\n",
    "\n",
    "# Hint: Add condition if x % 2 == 0."
   ]
  },
  {
   "cell_type": "code",
   "execution_count": 82,
   "id": "8250f5cf",
   "metadata": {},
   "outputs": [
    {
     "name": "stdout",
     "output_type": "stream",
     "text": [
      "[2, 4, 6, 8, 10, 12, 14, 16, 18, 20]\n"
     ]
    }
   ],
   "source": [
    "even_numbers = [x for x in range(1, 21) if x % 2 == 0]\n",
    "print(even_numbers)"
   ]
  },
  {
   "cell_type": "markdown",
   "id": "5f06e43c",
   "metadata": {},
   "source": [
    "22. Dictionary Comprehension\n",
    "\n",
    "# Create a dictionary with numbers as keys and their squares as values.\n",
    "\n",
    "# Hint: Use {x: x**2 for x in range(1, 6)}."
   ]
  },
  {
   "cell_type": "code",
   "execution_count": 83,
   "id": "1119459b",
   "metadata": {},
   "outputs": [
    {
     "name": "stdout",
     "output_type": "stream",
     "text": [
      "{1: 1, 2: 4, 3: 9, 4: 16, 5: 25}\n"
     ]
    }
   ],
   "source": [
    "squares_dict = {x: x**2 for x in range(1, 6)}\n",
    "print(squares_dict)"
   ]
  },
  {
   "cell_type": "markdown",
   "id": "63be0e79",
   "metadata": {},
   "source": [
    "23. String Lengths\n",
    "\n",
    "# Take a list of strings and create a list of their lengths.\n",
    "\n",
    "# Hint: Use list comprehension with len()."
   ]
  },
  {
   "cell_type": "code",
   "execution_count": 84,
   "id": "6bfaadb8",
   "metadata": {},
   "outputs": [
    {
     "name": "stdout",
     "output_type": "stream",
     "text": [
      "[5, 6, 6, 4]\n"
     ]
    }
   ],
   "source": [
    "words = [\"apple\", \"banana\", \"cherry\", \"date\"]\n",
    "lengths = [len(word) for word in words]\n",
    "print(lengths)"
   ]
  },
  {
   "cell_type": "markdown",
   "id": "871203ad",
   "metadata": {},
   "source": [
    "24. Nested Loop Pattern\n",
    "\n",
    "# Print a pattern of stars using nested loops.\n",
    "\n",
    "# Hint: Use two for loops, one for rows, one for columns."
   ]
  },
  {
   "cell_type": "code",
   "execution_count": 85,
   "id": "58c7f77a",
   "metadata": {},
   "outputs": [
    {
     "name": "stdout",
     "output_type": "stream",
     "text": [
      "*\n",
      "**\n",
      "***\n",
      "****\n",
      "*****\n"
     ]
    }
   ],
   "source": [
    "rows = 5\n",
    "for i in range(1, rows+1):\n",
    "    for j in range(1, i+1):\n",
    "        print(\"*\", end=\"\")\n",
    "    print()"
   ]
  },
  {
   "cell_type": "markdown",
   "id": "2c58e1df",
   "metadata": {},
   "source": [
    "25. Matrix Operations\n",
    "\n",
    "# Take two 2x2 matrices and print their sum.\n",
    "\n",
    "# Hint: Use nested loops to iterate through elements."
   ]
  },
  {
   "cell_type": "code",
   "execution_count": 87,
   "id": "59a9d57a",
   "metadata": {},
   "outputs": [
    {
     "name": "stdout",
     "output_type": "stream",
     "text": [
      "Sum of matrices:\n",
      "[6, 8]\n",
      "[10, 12]\n"
     ]
    }
   ],
   "source": [
    "A = [[1, 2],\n",
    "     [3, 4]]\n",
    "\n",
    "B = [[5, 6],\n",
    "     [7, 8]]\n",
    "\n",
    "result = [[0, 0],\n",
    "          [0, 0]]\n",
    "\n",
    "for i in range(2):\n",
    "    for j in range(2):\n",
    "        result[i][j] = A[i][j] + B[i][j]\n",
    "\n",
    "print(\"Sum of matrices:\")\n",
    "for row in result:\n",
    "    print(row)"
   ]
  },
  {
   "cell_type": "markdown",
   "id": "562159b1",
   "metadata": {},
   "source": [
    "26. Exception Handling Division\n",
    "\n",
    "# Take two numbers and divide them, handle division by zero.\n",
    "\n",
    "# Hint: Use try-except with ZeroDivisionError."
   ]
  },
  {
   "cell_type": "code",
   "execution_count": 88,
   "id": "c212648e",
   "metadata": {},
   "outputs": [
    {
     "name": "stdout",
     "output_type": "stream",
     "text": [
      "Result = 3.2857142857142856\n"
     ]
    }
   ],
   "source": [
    "a = float(input(\"Enter numerator: \"))\n",
    "b = float(input(\"Enter denominator: \"))\n",
    "\n",
    "try:\n",
    "    result = a / b\n",
    "    print(\"Result =\", result)\n",
    "except ZeroDivisionError:\n",
    "    print(\"Error: Division by zero is not allowed.\")"
   ]
  },
  {
   "cell_type": "markdown",
   "id": "7731bc53",
   "metadata": {},
   "source": [
    "27. ValueError Handling\n",
    "\n",
    "# Take input and convert to int, handle invalid input.\n",
    "\n",
    "# Hint: Use try-except with ValueError."
   ]
  },
  {
   "cell_type": "code",
   "execution_count": 90,
   "id": "5b617b34",
   "metadata": {},
   "outputs": [
    {
     "name": "stdout",
     "output_type": "stream",
     "text": [
      "Error: Invalid input! Please enter an integer.\n"
     ]
    }
   ],
   "source": [
    "try:\n",
    "    num = int(input(\"Enter a number: \"))\n",
    "    print(\"You entered:\", num)\n",
    "except ValueError:\n",
    "    print(\"Error: Invalid input! Please enter an integer.\")"
   ]
  },
  {
   "cell_type": "markdown",
   "id": "c3aa9350",
   "metadata": {},
   "source": [
    "28. File Reading with Exception\n",
    "\n",
    "# Try to read a file and handle if it doesn’t exist.\n",
    "\n",
    "# Hint: Use try-except with FileNotFoundError."
   ]
  },
  {
   "cell_type": "code",
   "execution_count": 97,
   "id": "0373dbd4",
   "metadata": {},
   "outputs": [
    {
     "name": "stdout",
     "output_type": "stream",
     "text": [
      "Error: File does not exist.\n"
     ]
    }
   ],
   "source": [
    "filename = input(\"Enter file name: \")\n",
    "\n",
    "try:\n",
    "    with open(filename, \"r\") as file:\n",
    "        content = file.read()\n",
    "        print(\"File content:\\n\", content)\n",
    "except FileNotFoundError:\n",
    "    print(\"Error: File does not exist.\")"
   ]
  },
  {
   "cell_type": "markdown",
   "id": "555b835c",
   "metadata": {},
   "source": [
    "29. Multiple Exceptions\n",
    "\n",
    "# Take two numbers, divide, handle both ValueError and ZeroDivisionError.\n",
    "\n",
    "# Hint: Use multiple except blocks."
   ]
  },
  {
   "cell_type": "code",
   "execution_count": 98,
   "id": "b344717f",
   "metadata": {},
   "outputs": [
    {
     "name": "stdout",
     "output_type": "stream",
     "text": [
      "Result = 6.96875\n"
     ]
    }
   ],
   "source": [
    "try:\n",
    "    a = int(input(\"Enter numerator: \"))\n",
    "    b = int(input(\"Enter denominator: \"))\n",
    "    result = a / b\n",
    "    print(\"Result =\", result)\n",
    "except ValueError:\n",
    "    print(\"Error: Please enter valid integers.\")\n",
    "except ZeroDivisionError:\n",
    "    print(\"Error: Division by zero is not allowed.\")"
   ]
  },
  {
   "cell_type": "markdown",
   "id": "07073d77",
   "metadata": {},
   "source": [
    "30. Finally Block\n",
    "\n",
    "# Open a file, read content, and ensure it’s closed.\n",
    "\n",
    "# Hint: Use try-except-finally."
   ]
  },
  {
   "cell_type": "code",
   "execution_count": 100,
   "id": "496958ca",
   "metadata": {},
   "outputs": [
    {
     "name": "stdout",
     "output_type": "stream",
     "text": [
      "File content:\n",
      " print(\"Hello MCA\")\n",
      "File closed successfully.\n"
     ]
    }
   ],
   "source": [
    "filename = input(\"Enter file name: \")\n",
    "\n",
    "try:\n",
    "    file = open(filename, \"r\")\n",
    "    content = file.read()\n",
    "    print(\"File content:\\n\", content)\n",
    "except FileNotFoundError:\n",
    "    print(\"Error: File does not exist.\")\n",
    "finally:\n",
    "    try:\n",
    "        file.close()\n",
    "        print(\"File closed successfully.\")\n",
    "    except NameError:\n",
    "        print(\"File was never opened.\")"
   ]
  }
 ],
 "metadata": {
  "kernelspec": {
   "display_name": "Python 3",
   "language": "python",
   "name": "python3"
  },
  "language_info": {
   "codemirror_mode": {
    "name": "ipython",
    "version": 3
   },
   "file_extension": ".py",
   "mimetype": "text/x-python",
   "name": "python",
   "nbconvert_exporter": "python",
   "pygments_lexer": "ipython3",
   "version": "3.13.6"
  }
 },
 "nbformat": 4,
 "nbformat_minor": 5
}

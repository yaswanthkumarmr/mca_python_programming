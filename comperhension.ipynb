{
 "cells": [
  {
   "cell_type": "code",
   "execution_count": 3,
   "id": "93ef1432",
   "metadata": {},
   "outputs": [
    {
     "name": "stdout",
     "output_type": "stream",
     "text": [
      "['pushpa', 'kannapa', 'jinna', 'journey', 'little hearts', 'court', 'luckybasker', 'thamadu', 'santhosam', 'kalisundam raa', 'nuvu naku nachav', 'baby', '7G bhrundavn colony', 'remo', 'orange', 'Rx 100', 'arjun reddy', 'mangalavaram']\n",
      "[6, 7, 5, 7, 13, 5, 11, 7, 9, 14, 16, 4, 19, 4, 6, 6, 11, 12]\n"
     ]
    }
   ],
   "source": [
    "movies =['pushpa', 'kannapa', 'jinna', 'journey', 'little hearts', 'court', 'luckybasker', 'thamadu', 'santhosam', 'kalisundam raa',\n",
    "        'nuvu naku nachav', 'baby', '7G bhrundavn colony', 'remo', 'orange', 'Rx 100', 'arjun reddy', 'mangalavaram']\n",
    "movielen = [ ]\n",
    "for movie in movies:\n",
    "    size = len(movie)\n",
    "    movielen.append(size)\n",
    "print(movies)\n",
    "print(movielen)\n",
    "     "
   ]
  },
  {
   "cell_type": "markdown",
   "id": "0a90f68a",
   "metadata": {},
   "source": []
  },
  {
   "cell_type": "code",
   "execution_count": 4,
   "id": "5330f2a5",
   "metadata": {},
   "outputs": [
    {
     "name": "stdout",
     "output_type": "stream",
     "text": [
      "['pushpa', 'kannapa', 'jinna', 'journey', 'little hearts', 'court', 'luckybasker', 'thamadu', 'santhosam', 'kalisundam raa', 'nuvu naku nachav', 'baby', '7G bhrundavn colony', 'remo', 'orange', 'Rx 100', 'arjun reddy', 'mangalavaram']\n",
      "[6, 7, 5, 7, 13, 5, 11, 7, 9, 14, 16, 4, 19, 4, 6, 6, 11, 12]\n"
     ]
    }
   ],
   "source": [
    "movielen = [len(movie) for movie in movies]\n",
    "print(movies)\n",
    "print(movielen)"
   ]
  },
  {
   "cell_type": "code",
   "execution_count": 1,
   "id": "685edc81",
   "metadata": {},
   "outputs": [
    {
     "data": {
      "text/plain": [
       "['pushpa',\n",
       " 'kannapa',\n",
       " 'jinna',\n",
       " 'journey',\n",
       " 'little hearts',\n",
       " 'court',\n",
       " 'luckybasker',\n",
       " 'thamadu',\n",
       " 'santhosam',\n",
       " 'kalisundam raa',\n",
       " 'nuvu naku nachav',\n",
       " 'baby',\n",
       " '7G bhrundavn colony',\n",
       " 'remo',\n",
       " 'orange',\n",
       " 'Rx 100',\n",
       " 'arjun reddy',\n",
       " 'mangalavaram']"
      ]
     },
     "execution_count": 1,
     "metadata": {},
     "output_type": "execute_result"
    }
   ],
   "source": [
    "movies =['pushpa', 'kannapa', 'jinna', 'journey', 'little hearts', 'court', 'luckybasker', 'thamadu', 'santhosam', 'kalisundam raa',\n",
    "        'nuvu naku nachav', 'baby', '7G bhrundavn colony', 'remo', 'orange', 'Rx 100', 'arjun reddy', 'mangalavaram'\n",
    "         ]\n",
    "movies\n"
   ]
  },
  {
   "cell_type": "code",
   "execution_count": 2,
   "id": "efdb0e55",
   "metadata": {},
   "outputs": [
    {
     "name": "stdout",
     "output_type": "stream",
     "text": [
      "['pushpa', 'kannapa', 'jinna', 'journey', 'little hearts', 'court', 'luckybasker', 'thamadu', 'santhosam', 'kalisundam raa', 'nuvu naku nachav', 'baby', '7G bhrundavn colony', 'remo', 'orange', 'Rx 100', 'arjun reddy', 'mangalavaram']\n",
      "['PUSHPA', 'KANNAPA', 'JINNA', 'JOURNEY', 'LITTLE HEARTS', 'COURT', 'LUCKYBASKER', 'THAMADU', 'SANTHOSAM', 'KALISUNDAM RAA', 'NUVU NAKU NACHAV', 'BABY', '7G BHRUNDAVN COLONY', 'REMO', 'ORANGE', 'RX 100', 'ARJUN REDDY', 'MANGALAVARAM']\n"
     ]
    }
   ],
   "source": [
    "movies_caps = [ ]\n",
    "for movie in movies:\n",
    "    name = movie.upper()\n",
    "    movies_caps.append(name)\n",
    "print(movies)\n",
    "print(movies_caps)"
   ]
  },
  {
   "cell_type": "code",
   "execution_count": 3,
   "id": "97984617",
   "metadata": {},
   "outputs": [
    {
     "name": "stdout",
     "output_type": "stream",
     "text": [
      "['pushpa', 'kannapa', 'jinna', 'journey', 'little hearts', 'court', 'luckybasker', 'thamadu', 'santhosam', 'kalisundam raa', 'nuvu naku nachav', 'baby', '7G bhrundavn colony', 'remo', 'orange', 'Rx 100', 'arjun reddy', 'mangalavaram']\n",
      "['PUSHPA', 'KANNAPA', 'JINNA', 'JOURNEY', 'LITTLE HEARTS', 'COURT', 'LUCKYBASKER', 'THAMADU', 'SANTHOSAM', 'KALISUNDAM RAA', 'NUVU NAKU NACHAV', 'BABY', '7G BHRUNDAVN COLONY', 'REMO', 'ORANGE', 'RX 100', 'ARJUN REDDY', 'MANGALAVARAM']\n"
     ]
    }
   ],
   "source": [
    "movies_caps = [movie.upper() for movie in movies]\n",
    "print(movies)\n",
    "print(movies_caps)"
   ]
  },
  {
   "cell_type": "code",
   "execution_count": 4,
   "id": "6cd0ca23",
   "metadata": {},
   "outputs": [
    {
     "name": "stdout",
     "output_type": "stream",
     "text": [
      "['pushpa', 'kannapa', 'jinna', 'journey', 'little hearts', 'court', 'luckybasker', 'thamadu', 'santhosam', 'kalisundam raa', 'nuvu naku nachav', 'baby', '7G bhrundavn colony', 'remo', 'orange', 'Rx 100', 'arjun reddy', 'mangalavaram']\n",
      "['journey', 'court', 'santhosam', '7G bhrundavn colony', 'remo', 'orange']\n"
     ]
    }
   ],
   "source": [
    "movies_with_o = [ ]\n",
    "for item in movies:\n",
    "    if 'o' in item or  'o' in item:\n",
    "        movies_with_o.append(item)\n",
    "print(movies)\n",
    "print(movies_with_o)"
   ]
  },
  {
   "cell_type": "code",
   "execution_count": 6,
   "id": "9c5f0e77",
   "metadata": {},
   "outputs": [],
   "source": [
    "movies_with_e = [nm for nm in movies if 'o' in nm or 'o' in nm]"
   ]
  },
  {
   "cell_type": "code",
   "execution_count": null,
   "id": "e2889b2a",
   "metadata": {},
   "outputs": [],
   "source": []
  }
 ],
 "metadata": {
  "kernelspec": {
   "display_name": "Python 3",
   "language": "python",
   "name": "python3"
  },
  "language_info": {
   "codemirror_mode": {
    "name": "ipython",
    "version": 3
   },
   "file_extension": ".py",
   "mimetype": "text/x-python",
   "name": "python",
   "nbconvert_exporter": "python",
   "pygments_lexer": "ipython3",
   "version": "3.13.6"
  }
 },
 "nbformat": 4,
 "nbformat_minor": 5
}

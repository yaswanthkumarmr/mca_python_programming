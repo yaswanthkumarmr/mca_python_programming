{
 "cells": [
  {
   "cell_type": "code",
   "execution_count": null,
   "id": "d791897d",
   "metadata": {},
   "outputs": [],
   "source": [
    "nane = 'yaswanth'\n",
    "city = 'tirupati'"
   ]
  },
  {
   "cell_type": "markdown",
   "id": "369393a0",
   "metadata": {},
   "source": [
    "input in python"
   ]
  },
  {
   "cell_type": "markdown",
   "id": "bddde318",
   "metadata": {},
   "source": [
    "input() function is used for taking user input"
   ]
  },
  {
   "cell_type": "code",
   "execution_count": null,
   "id": "ee074586",
   "metadata": {},
   "outputs": [],
   "source": [
    "name = input()"
   ]
  },
  {
   "cell_type": "code",
   "execution_count": null,
   "id": "c70334d7",
   "metadata": {},
   "outputs": [],
   "source": [
    "pythagours()"
   ]
  },
  {
   "cell_type": "code",
   "execution_count": null,
   "id": "febfd475",
   "metadata": {},
   "outputs": [],
   "source": [
    "how()"
   ]
  },
  {
   "cell_type": "code",
   "execution_count": null,
   "id": "9587dffb",
   "metadata": {},
   "outputs": [],
   "source": [
    "sum()"
   ]
  },
  {
   "cell_type": "code",
   "execution_count": null,
   "id": "7e062a02",
   "metadata": {},
   "outputs": [],
   "source": [
    "name = input()"
   ]
  },
  {
   "cell_type": "code",
   "execution_count": null,
   "id": "dcea1514",
   "metadata": {},
   "outputs": [],
   "source": [
    "name = input(\"enter name =>\" )\n",
    "city = input(\"enter city =>\")\n",
    "addhr = input(\"enter addhr =>\")\n",
    "print(name, city, addhr)\n"
   ]
  },
  {
   "cell_type": "code",
   "execution_count": null,
   "id": "035ac448",
   "metadata": {},
   "outputs": [],
   "source": [
    "a = 10\n",
    "b = 20\n",
    "c = a+b\n",
    "print(a, b, c)"
   ]
  },
  {
   "cell_type": "code",
   "execution_count": null,
   "id": "337f2751",
   "metadata": {},
   "outputs": [],
   "source": [
    "a = 10\n",
    "b = 20\n",
    "c = 40\n",
    "d = (a + b, b * c, a / b, b / c)\n",
    "print (d)"
   ]
  },
  {
   "cell_type": "code",
   "execution_count": null,
   "id": "91639665",
   "metadata": {},
   "outputs": [],
   "source": [
    "# dynamic input -> type casted\n",
    "a = int (input(\"enter A:\"))\n",
    "b = int (input(\"enter B:\"))\n",
    "c = a+b\n",
    "print (a, b, c)"
   ]
  },
  {
   "cell_type": "code",
   "execution_count": null,
   "id": "37732938",
   "metadata": {},
   "outputs": [],
   "source": [
    "radius = float(input(\"enter radius of circle\"))\n",
    "diameter = radius * 2\n",
    "circumference = 2 * 3.14 * radius\n",
    "area = 3.14 * radius ** 2\n",
    "print (radius)\n",
    "print (diameter)\n",
    "print (circumference)"
   ]
  },
  {
   "cell_type": "code",
   "execution_count": null,
   "id": "24962188",
   "metadata": {},
   "outputs": [],
   "source": [
    "# simple intrest\n",
    "p = 10000\n",
    "r = 5\n",
    "t = 8\n",
    "si = p*r*t/100\n",
    "print(p)\n"
   ]
  },
  {
   "cell_type": "code",
   "execution_count": null,
   "id": "5def2c0f",
   "metadata": {},
   "outputs": [],
   "source": [
    "# simple interst dynamic\n",
    "p = int (input(\"enter p:\"))\n",
    "r = int (input(\"enter r:\"))       \n",
    "t = int (input(\"enter t:\"))\n",
    "si = p*r*t/100\n",
    "print (si)"
   ]
  },
  {
   "cell_type": "code",
   "execution_count": null,
   "id": "c588752e",
   "metadata": {},
   "outputs": [],
   "source": [
    "pi = 3.14\n",
    "r = int (input(\"enter r:\"))\n",
    "h = int (input(\"enter h:\"))\n",
    "v = pi*r**2*h\n",
    "print (v)"
   ]
  },
  {
   "cell_type": "markdown",
   "id": "5dd79979",
   "metadata": {},
   "source": [
    "formating the output"
   ]
  },
  {
   "cell_type": "code",
   "execution_count": 1,
   "id": "bc54c210",
   "metadata": {},
   "outputs": [
    {
     "name": "stdout",
     "output_type": "stream",
     "text": [
      "this is an example\n",
      "two three four\n",
      "3 5 7 14\n",
      "apple|||banana|||gova\n",
      "😊😂🤣\n"
     ]
    }
   ],
   "source": [
    "print(\"this is an example\")\n",
    "print(\"two\",\"three\",\"four\")\n",
    "print(\"3\",\"5\",\"7\",6 + 8)\n",
    "print(\"apple\",\"banana\",\"gova\", sep=\"|||\")\n",
    "print(\"😊😂🤣\")"
   ]
  },
  {
   "cell_type": "code",
   "execution_count": 6,
   "id": "2a9cb6ab",
   "metadata": {},
   "outputs": [
    {
     "name": "stdout",
     "output_type": "stream",
     "text": [
      "23456\n"
     ]
    },
    {
     "ename": "TypeError",
     "evalue": "print() got an unexpected keyword argument 'SEP'. Did you mean 'sep'?",
     "output_type": "error",
     "traceback": [
      "\u001b[31m---------------------------------------------------------------------------\u001b[39m",
      "\u001b[31mTypeError\u001b[39m                                 Traceback (most recent call last)",
      "\u001b[36mCell\u001b[39m\u001b[36m \u001b[39m\u001b[32mIn[6]\u001b[39m\u001b[32m, line 2\u001b[39m\n\u001b[32m      1\u001b[39m \u001b[38;5;28mprint\u001b[39m(\u001b[32m2\u001b[39m,\u001b[32m3\u001b[39m,\u001b[32m4\u001b[39m,\u001b[32m5\u001b[39m,\u001b[32m6\u001b[39m, sep=\u001b[33m\"\u001b[39m\u001b[33m\"\u001b[39m)\n\u001b[32m----> \u001b[39m\u001b[32m2\u001b[39m \u001b[38;5;28;43mprint\u001b[39;49m\u001b[43m(\u001b[49m\u001b[32;43m5\u001b[39;49m\u001b[43m,\u001b[49m\u001b[32;43m6\u001b[39;49m\u001b[43m,\u001b[49m\u001b[32;43m7\u001b[39;49m\u001b[43m,\u001b[49m\u001b[32;43m8\u001b[39;49m\u001b[43m,\u001b[49m\u001b[32;43m9\u001b[39;49m\u001b[43m,\u001b[49m\u001b[43m \u001b[49m\u001b[43mSEP\u001b[49m\u001b[43m=\u001b[49m\u001b[33;43m\"\u001b[39;49m\u001b[33;43m,\u001b[39;49m\u001b[33;43m\"\u001b[39;49m\u001b[43m)\u001b[49m\n\u001b[32m      3\u001b[39m PRINT(\u001b[32m6\u001b[39m,\u001b[32m6\u001b[39m,\u001b[32m7\u001b[39m,\u001b[32m8\u001b[39m, sep=\u001b[33m'\u001b[39m\u001b[33m➡️\u001b[39m\u001b[33m'\u001b[39m)\n\u001b[32m      4\u001b[39m \u001b[38;5;28mprint\u001b[39m(\u001b[32m9\u001b[39m,\u001b[32m8\u001b[39m,\u001b[32m7\u001b[39m,\u001b[32m6\u001b[39m,\u001b[32m5\u001b[39m, sep=\u001b[33m'\u001b[39m\u001b[33m↘️\u001b[39m\u001b[33m'\u001b[39m)\n",
      "\u001b[31mTypeError\u001b[39m: print() got an unexpected keyword argument 'SEP'. Did you mean 'sep'?"
     ]
    }
   ],
   "source": [
    "print(2,3,4,5,6, sep=\"\")\n",
    "print(5,6,7,8,9, SEP=\",\")\n",
    "PRINT(6,6,7,8, sep='➡️')\n",
    "print(9,8,7,6,5, sep='↘️')\n",
    "print(2,3,4,5,6, sep=\"/n\")\n",
    "print(3,4,5,6,7, sep=\"hell dude\")"
   ]
  },
  {
   "cell_type": "code",
   "execution_count": 10,
   "id": "c866e42e",
   "metadata": {},
   "outputs": [
    {
     "name": "stdout",
     "output_type": "stream",
     "text": [
      "130\n",
      "Answer130\n",
      "Answer 130\n",
      "Answer 130\n",
      "Answer130\n"
     ]
    },
    {
     "ename": "AttributeError",
     "evalue": "'str' object has no attribute 'formate'",
     "output_type": "error",
     "traceback": [
      "\u001b[31m---------------------------------------------------------------------------\u001b[39m",
      "\u001b[31mAttributeError\u001b[39m                            Traceback (most recent call last)",
      "\u001b[36mCell\u001b[39m\u001b[36m \u001b[39m\u001b[32mIn[10]\u001b[39m\u001b[32m, line 9\u001b[39m\n\u001b[32m      7\u001b[39m \u001b[38;5;28mprint\u001b[39m(\u001b[33m\"\u001b[39m\u001b[33mAnswer \u001b[39m\u001b[38;5;132;01m%d\u001b[39;00m\u001b[33m\"\u001b[39m%c)\n\u001b[32m      8\u001b[39m \u001b[38;5;28mprint\u001b[39m(\u001b[33m\"\u001b[39m\u001b[33mAnswer\u001b[39m\u001b[38;5;132;01m{}\u001b[39;00m\u001b[33m\"\u001b[39m.format(c))\n\u001b[32m----> \u001b[39m\u001b[32m9\u001b[39m \u001b[38;5;28mprint\u001b[39m(\u001b[33;43m\"\u001b[39;49m\u001b[38;5;132;43;01m{}\u001b[39;49;00m\u001b[33;43m + \u001b[39;49m\u001b[38;5;132;43;01m{}\u001b[39;49;00m\u001b[33;43m = \u001b[39;49m\u001b[38;5;132;43;01m{}\u001b[39;49;00m\u001b[33;43m\"\u001b[39;49m\u001b[43m.\u001b[49m\u001b[43mformate\u001b[49m(a,b,c))\n",
      "\u001b[31mAttributeError\u001b[39m: 'str' object has no attribute 'formate'"
     ]
    }
   ],
   "source": [
    "a = 100\n",
    "b = 30\n",
    "c = a + b\n",
    "print(c)\n",
    "print(\"Answer\"+str(c))\n",
    "print(\"Answer\", c)\n",
    "print(\"Answer %d\"%c)\n",
    "print(\"Answer{}\".format(c))\n",
    "print(\"{} + {} = {}\".formate(a,b,c))"
   ]
  },
  {
   "cell_type": "markdown",
   "id": "844840a9",
   "metadata": {},
   "source": [
    "final actual way to formate output using f-strings"
   ]
  },
  {
   "cell_type": "code",
   "execution_count": null,
   "id": "7e2b7010",
   "metadata": {},
   "outputs": [
    {
     "name": "stdout",
     "output_type": "stream",
     "text": [
      "Answer 130\n",
      "100 + 30 = 130\n",
      "answer is {c}\n"
     ]
    }
   ],
   "source": [
    "a = 100\n",
    "b = 30\n",
    "c = a + b \n",
    "\n",
    "print(f\"Answer {c}\")\n",
    "print(f\"{a} + {b} = {c}\")\n",
    "print(\"answer is {c}\")"
   ]
  },
  {
   "cell_type": "code",
   "execution_count": null,
   "id": "2f3ee4a8",
   "metadata": {},
   "outputs": [],
   "source": [
    "name = \"yashu\"\n",
    "study = \"mca\"\n",
    "collage = \"mbu\"\n",
    "print()"
   ]
  },
  {
   "cell_type": "code",
   "execution_count": null,
   "id": "c235c7f0",
   "metadata": {},
   "outputs": [
    {
     "name": "stdout",
     "output_type": "stream",
     "text": [
      "you see a apple seller\n",
      "purchase 2kg of apples\n"
     ]
    }
   ],
   "source": [
    "print('you see a apple seller')\n",
    "q = input('do you like apples ?')\n",
    "\n",
    "if q == 'yes':\n",
    "   print('purchase 2kg of apples')\n",
    "if q == 'no':\n",
    "   print('you dont purchase apples')"
   ]
  },
  {
   "cell_type": "code",
   "execution_count": 2,
   "id": "a028800a",
   "metadata": {},
   "outputs": [],
   "source": [
    "salary = 42000\n",
    "if  salary > 50000:\n",
    "     da = .15\n",
    "     total =salary +salary * da\n",
    "     print(f\"total salary is {total}\") "
   ]
  },
  {
   "cell_type": "code",
   "execution_count": 16,
   "id": "a5a28937",
   "metadata": {},
   "outputs": [
    {
     "name": "stdout",
     "output_type": "stream",
     "text": [
      "total salary is 42000\n"
     ]
    }
   ],
   "source": [
    "salary = 42000\n",
    "if  salary > 50000:\n",
    "    da = .15\n",
    "    total = salary + salary * da\n",
    "else:\n",
    "    total = salary\n",
    "print(f\"total salary is {total}\") "
   ]
  },
  {
   "cell_type": "code",
   "execution_count": 19,
   "id": "e7b711bf",
   "metadata": {},
   "outputs": [
    {
     "name": "stdout",
     "output_type": "stream",
     "text": [
      "total salary is 42000\n"
     ]
    }
   ],
   "source": [
    "salary = 42000\n",
    "if  salary > 50000:\n",
    "    da = .15\n",
    "    total = salary + salary * da\n",
    "    print(f\"total salary is {total}\")\n",
    "else:\n",
    "    total = salary\n",
    "    print(f\"total salary is {total}\") "
   ]
  },
  {
   "cell_type": "code",
   "execution_count": 27,
   "id": "07e6ee90",
   "metadata": {},
   "outputs": [
    {
     "name": "stdout",
     "output_type": "stream",
     "text": [
      "10 0\n"
     ]
    }
   ],
   "source": [
    "x = int(input())\n",
    "y = int(input())\n",
    "if x > y:\n",
    "    a = x - y\n",
    "else:\n",
    "    b = y - x\n",
    "print(a , b )"
   ]
  },
  {
   "cell_type": "code",
   "execution_count": 29,
   "id": "a6dbb302",
   "metadata": {},
   "outputs": [
    {
     "name": "stdout",
     "output_type": "stream",
     "text": [
      "long move name bahubali the begining\n",
      "the end\n"
     ]
    }
   ],
   "source": [
    "name = input(\"enter fav move\")\n",
    "if len(name) > 10:\n",
    "    print(f\"long move name {name}\")\n",
    "else:\n",
    "    print(f\"short move name {name}\")\n",
    "print(\"the end\")\n"
   ]
  },
  {
   "cell_type": "code",
   "execution_count": null,
   "id": "8a788e18",
   "metadata": {},
   "outputs": [],
   "source": []
  }
 ],
 "metadata": {
  "kernelspec": {
   "display_name": "Python 3",
   "language": "python",
   "name": "python3"
  },
  "language_info": {
   "codemirror_mode": {
    "name": "ipython",
    "version": 3
   },
   "file_extension": ".py",
   "mimetype": "text/x-python",
   "name": "python",
   "nbconvert_exporter": "python",
   "pygments_lexer": "ipython3",
   "version": "3.13.6"
  }
 },
 "nbformat": 4,
 "nbformat_minor": 5
}

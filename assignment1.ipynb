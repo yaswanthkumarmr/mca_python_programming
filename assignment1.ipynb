{
 "cells": [
  {
   "cell_type": "code",
   "execution_count": 3,
   "id": "7065f098",
   "metadata": {},
   "outputs": [
    {
     "name": "stdout",
     "output_type": "stream",
     "text": [
      "\n",
      "Before swapping:\n",
      "a = 22\n",
      "b = 33\n",
      "\n",
      "After swapping (using temporary variable):\n",
      "a = 33\n",
      "b = 22\n"
     ]
    }
   ],
   "source": [
    "a = input(\"Enter first value: \")\n",
    "b = input(\"Enter second value: \")\n",
    "\n",
    "print(\"\\nBefore swapping:\")\n",
    "print(\"a =\", a)\n",
    "print(\"b =\", b)\n",
    "\n",
    "# method 1: using temporary variable\n",
    "temp = a\n",
    "a = b\n",
    "b = temp\n",
    "\n",
    "print(\"\\nAfter swapping (using temporary variable):\")\n",
    "print(\"a =\", a)\n",
    "print(\"b =\", b)\n",
    "\n",
    "\n"
   ]
  },
  {
   "cell_type": "code",
   "execution_count": 5,
   "id": "8ed06546",
   "metadata": {},
   "outputs": [
    {
     "name": "stdout",
     "output_type": "stream",
     "text": [
      "Result: -11\n"
     ]
    }
   ],
   "source": [
    "# Take input from the user\n",
    "num1 = input(\"Enter the first number: \")\n",
    "num2 = input(\"Enter the second number: \")\n",
    "operator = input(\"Enter an operator (+, -, *, /): \")\n",
    "\n",
    "# Create the expression as a string\n",
    "expression = num1 + operator + num2\n",
    "\n",
    "# Evaluate the expression and print the result\n",
    "result = eval(expression)\n",
    "print(\"Result:\", result)\n"
   ]
  },
  {
   "cell_type": "code",
   "execution_count": 6,
   "id": "0cb2f7a5",
   "metadata": {},
   "outputs": [
    {
     "name": "stdout",
     "output_type": "stream",
     "text": [
      "Integer value: 33 Type: <class 'int'>\n",
      "Float value: 33.0 Type: <class 'float'>\n"
     ]
    }
   ],
   "source": [
    "# Program: String to int and float conversion\n",
    "\n",
    "num_str = input(\"Enter a number as a string: \")\n",
    "\n",
    "# Convert to integer\n",
    "num_int = int(num_str)\n",
    "\n",
    "# Convert to float\n",
    "num_float = float(num_str)\n",
    "\n",
    "# Print values and their types\n",
    "print(\"Integer value:\", num_int, \"Type:\", type(num_int))\n",
    "print(\"Float value:\", num_float, \"Type:\", type(num_float))\n",
    "\n"
   ]
  },
  {
   "cell_type": "code",
   "execution_count": 9,
   "id": "5adbb9b6",
   "metadata": {},
   "outputs": [
    {
     "name": "stdout",
     "output_type": "stream",
     "text": [
      "Root 1 = (-0.9999999999999999+1.7320508075688772j)\n",
      "Root 2 = (-1-1.7320508075688772j)\n"
     ]
    }
   ],
   "source": [
    "# Quadratic equation: ax^2 + bx + c = 0\n",
    "a = float(input(\"Enter a: \"))\n",
    "b = float(input(\"Enter b: \"))\n",
    "c = float(input(\"Enter c: \"))\n",
    "\n",
    "# Quadratic formula: (-b ± sqrt(b^2 - 4ac)) / (2a)\n",
    "d = b**2 - 4*a*c  # discriminant\n",
    "\n",
    "root1 = (-b + complex(d, 0)**0.5) / (2*a)\n",
    "root2 = (-b - complex(d, 0)**0.5) / (2*a)\n",
    "\n",
    "print(\"Root 1 =\", root1)\n",
    "print(\"Root 2 =\", root2)\n"
   ]
  },
  {
   "cell_type": "code",
   "execution_count": 10,
   "id": "b32d01fd",
   "metadata": {},
   "outputs": [
    {
     "name": "stdout",
     "output_type": "stream",
     "text": [
      "Name: yaswanth, Age: 22 years, Height: 5.4 cm\n"
     ]
    }
   ],
   "source": [
    "# Take input\n",
    "name = input(\"Enter your name: \")\n",
    "age = int(input(\"Enter your age: \"))\n",
    "height = float(input(\"Enter your height in cm: \"))\n",
    "\n",
    "# Print formatted string using f-string\n",
    "print(f\"Name: {name}, Age: {age} years, Height: {height} cm\")\n"
   ]
  },
  {
   "cell_type": "code",
   "execution_count": 11,
   "id": "36d9b752",
   "metadata": {},
   "outputs": [
    {
     "name": "stdout",
     "output_type": "stream",
     "text": [
      "Result: -220.0\n"
     ]
    }
   ],
   "source": [
    "# Take input from user\n",
    "num1 = float(input(\"Enter first number: \"))\n",
    "num2 = float(input(\"Enter second number: \"))\n",
    "num3 = float(input(\"Enter third number: \"))\n",
    "\n",
    "# Expression: ((num1 + num2) * num3) / (num1 - num2)\n",
    "result = ((num1 + num2) * num3) / (num1 - num2)\n",
    "\n",
    "# Print result rounded to 2 decimal places\n",
    "print(\"Result:\", round(result, 2))\n",
    "\n",
    "\n"
   ]
  },
  {
   "cell_type": "code",
   "execution_count": 12,
   "id": "3599a49a",
   "metadata": {},
   "outputs": [
    {
     "name": "stdout",
     "output_type": "stream",
     "text": [
      "Sum = 15.0\n"
     ]
    }
   ],
   "source": [
    "# Take input from user\n",
    "num1 = float(input(\"Enter first number: \"))\n",
    "num2 = float(input(\"Enter second number: \"))\n",
    "\n",
    "# Calculate sum\n",
    "sum_result = num1 + num2\n",
    "\n",
    "# Print the sum\n",
    "print(\"Sum =\", sum_result)\n"
   ]
  },
  {
   "cell_type": "code",
   "execution_count": 14,
   "id": "b76c0cb6",
   "metadata": {},
   "outputs": [
    {
     "name": "stdout",
     "output_type": "stream",
     "text": [
      "HELLO\n"
     ]
    }
   ],
   "source": [
    "# Take input from the user\n",
    "text = input(\"Enter a string: \")\n",
    "\n",
    "# Convert to uppercase\n",
    "print(text.upper())\n",
    "\n"
   ]
  },
  {
   "cell_type": "code",
   "execution_count": 15,
   "id": "1e930381",
   "metadata": {},
   "outputs": [
    {
     "name": "stdout",
     "output_type": "stream",
     "text": [
      "Square of the number is: 4\n"
     ]
    }
   ],
   "source": [
    "num = int(input(\"Enter a number: \"))\n",
    "square = num ** 2   # or square = num * num\n",
    "print(\"Square of the number is:\", square)\n"
   ]
  },
  {
   "cell_type": "code",
   "execution_count": 16,
   "id": "05d8c04c",
   "metadata": {},
   "outputs": [
    {
     "name": "stdout",
     "output_type": "stream",
     "text": [
      "Concatenated string: hellohow \n"
     ]
    }
   ],
   "source": [
    "# Input two strings\n",
    "str1 = input(\"Enter first string: \")\n",
    "str2 = input(\"Enter second string: \")\n",
    "\n",
    "# Concatenate and print\n",
    "print(\"Concatenated string:\", str1 + str2)\n"
   ]
  },
  {
   "cell_type": "code",
   "execution_count": 17,
   "id": "9ec55b2c",
   "metadata": {},
   "outputs": [
    {
     "name": "stdout",
     "output_type": "stream",
     "text": [
      "Integer equivalent: 22\n"
     ]
    }
   ],
   "source": [
    "# Input a float number\n",
    "num = float(input(\"Enter a float number: \"))\n",
    "\n",
    "# Convert to integer\n",
    "print(\"Integer equivalent:\", int(num))\n"
   ]
  },
  {
   "cell_type": "code",
   "execution_count": 18,
   "id": "2bd35597",
   "metadata": {},
   "outputs": [
    {
     "name": "stdout",
     "output_type": "stream",
     "text": [
      "You are 22 years old\n"
     ]
    }
   ],
   "source": [
    "# Input age\n",
    "age = int(input(\"Enter your age: \"))\n",
    "\n",
    "# Print with f-string\n",
    "print(f\"You are {age} years old\")\n"
   ]
  },
  {
   "cell_type": "code",
   "execution_count": 19,
   "id": "859efa4b",
   "metadata": {},
   "outputs": [
    {
     "name": "stdout",
     "output_type": "stream",
     "text": [
      "Product: 150.0\n"
     ]
    }
   ],
   "source": [
    "# Input two numbers\n",
    "num1 = float(input(\"Enter first number: \"))\n",
    "num2 = float(input(\"Enter second number: \"))\n",
    "\n",
    "# Calculate product\n",
    "print(\"Product:\", num1 * num2)\n"
   ]
  },
  {
   "cell_type": "code",
   "execution_count": 20,
   "id": "cb48f776",
   "metadata": {},
   "outputs": [
    {
     "name": "stdout",
     "output_type": "stream",
     "text": [
      "Length of the sentence: 15\n"
     ]
    }
   ],
   "source": [
    "# Input a sentence\n",
    "sentence = input(\"Enter a sentence: \")\n",
    "\n",
    "# Print the length of the sentence\n",
    "print(\"Length of the sentence:\", len(sentence))\n"
   ]
  },
  {
   "cell_type": "code",
   "execution_count": 21,
   "id": "c46e89e9",
   "metadata": {},
   "outputs": [
    {
     "name": "stdout",
     "output_type": "stream",
     "text": [
      "Average: 77.0\n"
     ]
    }
   ],
   "source": [
    "# Input three numbers\n",
    "num1 = float(input(\"Enter first number: \"))\n",
    "num2 = float(input(\"Enter second number: \"))\n",
    "num3 = float(input(\"Enter third number: \"))\n",
    "\n",
    "# Calculate average\n",
    "average = (num1 + num2 + num3) / 3\n",
    "\n",
    "# Print the average\n",
    "print(\"Average:\", average)\n",
    "\n"
   ]
  },
  {
   "cell_type": "code",
   "execution_count": 22,
   "id": "afa357e6",
   "metadata": {},
   "outputs": [
    {
     "name": "stdout",
     "output_type": "stream",
     "text": [
      "Absolute value: 22.0\n"
     ]
    }
   ],
   "source": [
    "# Input a number\n",
    "num = float(input(\"Enter a number: \"))\n",
    "\n",
    "# Print absolute value\n",
    "print(\"Absolute value:\", abs(num))\n"
   ]
  },
  {
   "cell_type": "code",
   "execution_count": 24,
   "id": "c429b126",
   "metadata": {},
   "outputs": [
    {
     "name": "stdout",
     "output_type": "stream",
     "text": [
      "Difference:\n"
     ]
    }
   ],
   "source": [
    "# Input two numbers\n",
    "num1 = float(input(\"Enter first number: \"))\n",
    "num2 = float(input(\"Enter second number: \"))\n",
    "\n",
    "# Calculate difference\n",
    "difference = num1 - num2\n",
    "\n",
    "# Print the difference\n",
    "print(\"Difference:\")\n"
   ]
  },
  {
   "cell_type": "code",
   "execution_count": 25,
   "id": "95af69d1",
   "metadata": {},
   "outputs": [
    {
     "name": "stdout",
     "output_type": "stream",
     "text": [
      "Reversed string: wow\n"
     ]
    }
   ],
   "source": [
    "# Input a string\n",
    "text = input(\"Enter a string: \")\n",
    "\n",
    "# Print reversed string\n",
    "print(\"Reversed string:\", text[::-1])\n"
   ]
  },
  {
   "cell_type": "code",
   "execution_count": 26,
   "id": "12830e0f",
   "metadata": {},
   "outputs": [
    {
     "name": "stdout",
     "output_type": "stream",
     "text": [
      "Height in meters: 0.055\n"
     ]
    }
   ],
   "source": [
    "# Input height in centimeters\n",
    "height_cm = float(input(\"Enter height in centimeters: \"))\n",
    "\n",
    "# Convert to meters\n",
    "height_m = height_cm / 100\n",
    "\n",
    "# Print the height in meters\n",
    "print(\"Height in meters:\", height_m)\n"
   ]
  },
  {
   "cell_type": "code",
   "execution_count": 27,
   "id": "85dfe076",
   "metadata": {},
   "outputs": [
    {
     "name": "stdout",
     "output_type": "stream",
     "text": [
      "Quotient: 0.6\n"
     ]
    }
   ],
   "source": [
    "# Input two numbers\n",
    "num1 = float(input(\"Enter first number: \"))\n",
    "num2 = float(input(\"Enter second number: \"))\n",
    "\n",
    "# Calculate quotient\n",
    "quotient = num1 / num2\n",
    "\n",
    "# Print the quotient\n",
    "print(\"Quotient:\", quotient)\n"
   ]
  },
  {
   "cell_type": "code",
   "execution_count": 28,
   "id": "53457bc6",
   "metadata": {},
   "outputs": [
    {
     "name": "stdout",
     "output_type": "stream",
     "text": [
      "\"sreenadh\"\n"
     ]
    }
   ],
   "source": [
    "# Input a name\n",
    "name = input(\"Enter your name: \")\n",
    "\n",
    "# Print the name surrounded by double quotes using f-string\n",
    "print(f'\"{name}\"')\n"
   ]
  },
  {
   "cell_type": "code",
   "execution_count": 29,
   "id": "ed3b0542",
   "metadata": {},
   "outputs": [
    {
     "name": "stdout",
     "output_type": "stream",
     "text": [
      "Rounded number: 7.0\n"
     ]
    }
   ],
   "source": [
    "# Input a number\n",
    "num = float(input(\"Enter a number: \"))\n",
    "\n",
    "# Round to 2 decimal places\n",
    "rounded_num = round(num, 2)\n",
    "\n",
    "# Print the result\n",
    "print(\"Rounded number:\", rounded_num)\n"
   ]
  },
  {
   "cell_type": "code",
   "execution_count": 30,
   "id": "59626855",
   "metadata": {},
   "outputs": [
    {
     "name": "stdout",
     "output_type": "stream",
     "text": [
      "hiii hello\n"
     ]
    }
   ],
   "source": [
    "# Input two strings\n",
    "str1 = input(\"Enter first string: \")\n",
    "str2 = input(\"Enter second string: \")\n",
    "\n",
    "# Print them separated by a space using f-string\n",
    "print(f\"{str1} {str2}\")\n"
   ]
  },
  {
   "cell_type": "code",
   "execution_count": 31,
   "id": "a1b708ea",
   "metadata": {},
   "outputs": [
    {
     "name": "stdout",
     "output_type": "stream",
     "text": [
      "Type of the input: <class 'str'>\n"
     ]
    }
   ],
   "source": [
    "# Take input from user\n",
    "value = input(\"Enter something: \")\n",
    "\n",
    "# Print the type of the input\n",
    "print(\"Type of the input:\", type(value))\n"
   ]
  },
  {
   "cell_type": "code",
   "execution_count": 32,
   "id": "d0a3cc3f",
   "metadata": {},
   "outputs": [
    {
     "name": "stdout",
     "output_type": "stream",
     "text": [
      "Sum: 99.0\n",
      "Product: 31944.0\n"
     ]
    }
   ],
   "source": [
    "# Input three numbers\n",
    "num1 = float(input(\"Enter first number: \"))\n",
    "num2 = float(input(\"Enter second number: \"))\n",
    "num3 = float(input(\"Enter third number: \"))\n",
    "\n",
    "# Calculate sum and product\n",
    "total_sum = num1 + num2 + num3\n",
    "product = num1 * num2 * num3\n",
    "\n",
    "# Print results\n",
    "print(\"Sum:\", total_sum)\n",
    "print(\"Product:\", product)\n"
   ]
  },
  {
   "cell_type": "code",
   "execution_count": null,
   "id": "3c732663",
   "metadata": {},
   "outputs": [],
   "source": []
  }
 ],
 "metadata": {
  "kernelspec": {
   "display_name": "Python 3",
   "language": "python",
   "name": "python3"
  },
  "language_info": {
   "codemirror_mode": {
    "name": "ipython",
    "version": 3
   },
   "file_extension": ".py",
   "mimetype": "text/x-python",
   "name": "python",
   "nbconvert_exporter": "python",
   "pygments_lexer": "ipython3",
   "version": "3.13.6"
  }
 },
 "nbformat": 4,
 "nbformat_minor": 5
}

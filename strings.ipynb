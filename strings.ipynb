{
 "cells": [
  {
   "cell_type": "markdown",
   "id": "43b7a594",
   "metadata": {},
   "source": [
    "FORMATING"
   ]
  },
  {
   "cell_type": "code",
   "execution_count": 1,
   "id": "76982350",
   "metadata": {},
   "outputs": [
    {
     "name": "stdout",
     "output_type": "stream",
     "text": [
      "maintain silince in library\n",
      "MAINTAIN SILINCE IN LIBRARY\n"
     ]
    }
   ],
   "source": [
    "s = \"maintain silince in library\"\n",
    "supper = s.upper()\n",
    "print(s)\n",
    "print(supper)"
   ]
  },
  {
   "cell_type": "code",
   "execution_count": 2,
   "id": "8829fd84",
   "metadata": {},
   "outputs": [
    {
     "name": "stdout",
     "output_type": "stream",
     "text": [
      "maintain silince in library\n",
      "maintain silince in library\n",
      "Maintain silince in library\n",
      "Maintain Silince In Library\n"
     ]
    }
   ],
   "source": [
    "slower = s.lower()\n",
    "scapitalize = s.capitalize()\n",
    "stitles = s.title()\n",
    "print(s)\n",
    "print(slower)\n",
    "print(scapitalize)\n",
    "print(stitles)"
   ]
  },
  {
   "cell_type": "code",
   "execution_count": 3,
   "id": "3b8f34ae",
   "metadata": {},
   "outputs": [
    {
     "name": "stdout",
     "output_type": "stream",
     "text": [
      "seven\n",
      "seven     \n",
      "seven-----\n"
     ]
    }
   ],
   "source": [
    "a = \"seven\"\n",
    "a1 = a.ljust(10)\n",
    "print(a)\n",
    "print(a1)\n",
    "a2 = a.ljust(10, '-')\n",
    "print(a2)\n"
   ]
  },
  {
   "cell_type": "code",
   "execution_count": 7,
   "id": "bb788529",
   "metadata": {},
   "outputs": [
    {
     "name": "stdout",
     "output_type": "stream",
     "text": [
      "               seven\n",
      "$$$$$$$$$$$$$$$seven\n",
      "    seven    \n",
      "****seven****\n"
     ]
    }
   ],
   "source": [
    "a3 = a.rjust(20)\n",
    "a4 = a.rjust(20, \"$\")\n",
    "a5 = a.center(13)\n",
    "a6 = a.center(13, '*')\n",
    "print(a3, a4, a5, a6, sep = '\\n')"
   ]
  },
  {
   "cell_type": "code",
   "execution_count": 8,
   "id": "8b6ccc11",
   "metadata": {},
   "outputs": [
    {
     "name": "stdout",
     "output_type": "stream",
     "text": [
      "False\n",
      "False\n",
      "False\n",
      "False\n"
     ]
    }
   ],
   "source": [
    "x = input()\n",
    "print(x.isalpha())\n",
    "print(x.isalnum())\n",
    "print(x.isdigit())\n",
    "print(x.isspace())"
   ]
  },
  {
   "cell_type": "code",
   "execution_count": 10,
   "id": "f8012a3d",
   "metadata": {},
   "outputs": [
    {
     "ename": "AttributeError",
     "evalue": "'str' object has no attribute 'starstwith'",
     "output_type": "error",
     "traceback": [
      "\u001b[31m---------------------------------------------------------------------------\u001b[39m",
      "\u001b[31mAttributeError\u001b[39m                            Traceback (most recent call last)",
      "\u001b[36mCell\u001b[39m\u001b[36m \u001b[39m\u001b[32mIn[10]\u001b[39m\u001b[32m, line 2\u001b[39m\n\u001b[32m      1\u001b[39m a = \u001b[38;5;28minput\u001b[39m()\n\u001b[32m----> \u001b[39m\u001b[32m2\u001b[39m a1 = \u001b[43ma\u001b[49m\u001b[43m.\u001b[49m\u001b[43mstarstwith\u001b[49m(\u001b[33m'\u001b[39m\u001b[33ma\u001b[39m\u001b[33m'\u001b[39m)\n\u001b[32m      3\u001b[39m a2 = a.starswith(\u001b[33m\"\u001b[39m\u001b[33mhello\u001b[39m\u001b[33m\"\u001b[39m)\n\u001b[32m      4\u001b[39m a3 = a.starswith(\u001b[33m'\u001b[39m\u001b[33mb\u001b[39m\u001b[33m'\u001b[39m)\n",
      "\u001b[31mAttributeError\u001b[39m: 'str' object has no attribute 'starstwith'"
     ]
    }
   ],
   "source": [
    "a = input()\n",
    "a1 = a.starstwith('a')\n",
    "a2 = a.starswith(\"hello\")\n",
    "a3 = a.starswith('b')\n",
    "print(a, a1, a2, a3, sep = '\\n')"
   ]
  },
  {
   "cell_type": "code",
   "execution_count": null,
   "id": "99d4ded9",
   "metadata": {},
   "outputs": [],
   "source": []
  }
 ],
 "metadata": {
  "kernelspec": {
   "display_name": "Python 3",
   "language": "python",
   "name": "python3"
  },
  "language_info": {
   "codemirror_mode": {
    "name": "ipython",
    "version": 3
   },
   "file_extension": ".py",
   "mimetype": "text/x-python",
   "name": "python",
   "nbconvert_exporter": "python",
   "pygments_lexer": "ipython3",
   "version": "3.13.6"
  }
 },
 "nbformat": 4,
 "nbformat_minor": 5
}

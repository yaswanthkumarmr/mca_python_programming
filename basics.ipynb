{
 "cells": [
  {
   "cell_type": "code",
   "execution_count": 28,
   "id": "593ab7ff",
   "metadata": {},
   "outputs": [],
   "source": [
    "name = \"yaswanth kumar\"\n",
    "city = \"tirupati\"\n",
    "age = \"21\"\n"
   ]
  },
  {
   "cell_type": "code",
   "execution_count": null,
   "id": "5614c774",
   "metadata": {},
   "outputs": [],
   "source": []
  },
  {
   "cell_type": "markdown",
   "id": "158c2858",
   "metadata": {},
   "source": [
    "python has 10 data types\n",
    "-int(integer) -> for the whole numbers\n",
    "flot-> for real/scientific numbers\n",
    "bool (boolean)-> for true/false values\n",
    "none(None type)-> for specifying no value\n",
    "str(String)-> for textual values\n",
    "list-> for storing arrays and sequences\n",
    "set->for unique sequences\n",
    "dict-> for storing key value data"
   ]
  },
  {
   "cell_type": "markdown",
   "id": "00a2a4ab",
   "metadata": {},
   "source": []
  },
  {
   "cell_type": "code",
   "execution_count": 29,
   "id": "0be552b7",
   "metadata": {},
   "outputs": [],
   "source": [
    "x = 5\n",
    "y = 1.5\n",
    "z = 10j\n",
    "is_working = False\n",
    "is_empty = None\n",
    "univ = \"MBU\"\n",
    "colours = ['red','yellow',]\n",
    "points = (1, 2, 3)\n",
    "names = {\"yeswanth\", \"chandra\", \"pk\"}\n",
    "info = {\n",
    "    \"name\": \"yasawath\",\n",
    "    \"designation\" : \"student\",\n",
    "    \"dept\":\"MCA\"\n",
    "}\n",
    "    "
   ]
  },
  {
   "cell_type": "code",
   "execution_count": 30,
   "id": "cc175683",
   "metadata": {},
   "outputs": [
    {
     "data": {
      "text/plain": [
       "1750.0"
      ]
     },
     "execution_count": 30,
     "metadata": {},
     "output_type": "execute_result"
    }
   ],
   "source": [
    "p = 10000\n",
    "r = 3.5\n",
    "t = 5\n",
    "si = p * r * t / 100\n",
    "si"
   ]
  },
  {
   "cell_type": "code",
   "execution_count": 31,
   "id": "1922dfa5",
   "metadata": {},
   "outputs": [
    {
     "data": {
      "text/plain": [
       "4400000.0"
      ]
     },
     "execution_count": 31,
     "metadata": {},
     "output_type": "execute_result"
    }
   ],
   "source": [
    "p = 10000000\n",
    "r = 5.5\n",
    "t = 8\n",
    "si = p* r* t /100\n",
    "si "
   ]
  },
  {
   "cell_type": "markdown",
   "id": "910ba1eb",
   "metadata": {},
   "source": [
    " # 2 types of varibles\n",
    "  1. directly instialized x = 10\n",
    "2. dynamically calculated z = x*10"
   ]
  },
  {
   "cell_type": "markdown",
   "id": "14f7fd7b",
   "metadata": {},
   "source": []
  },
  {
   "cell_type": "code",
   "execution_count": 32,
   "id": "cd3c00e3",
   "metadata": {},
   "outputs": [
    {
     "data": {
      "text/plain": [
       "50.24"
      ]
     },
     "execution_count": 32,
     "metadata": {},
     "output_type": "execute_result"
    }
   ],
   "source": [
    "r = 8 # cm\n",
    "pi = 3.14\n",
    "circumference = 2 * pi * r\n",
    "circumference"
   ]
  },
  {
   "cell_type": "code",
   "execution_count": 33,
   "id": "94004707",
   "metadata": {},
   "outputs": [
    {
     "data": {
      "text/plain": [
       "50.24"
      ]
     },
     "execution_count": 33,
     "metadata": {},
     "output_type": "execute_result"
    }
   ],
   "source": [
    "circumference"
   ]
  },
  {
   "cell_type": "code",
   "execution_count": null,
   "id": "aa454b75",
   "metadata": {},
   "outputs": [],
   "source": []
  },
  {
   "cell_type": "markdown",
   "id": "4f23cd54",
   "metadata": {},
   "source": [
    "# operators\n",
    "- Asssignment operators\n",
    "- Arithmetic operator\n",
    "- comparsion operstor\n",
    "- logical operator\n",
    "- bitwise operator\n",
    "- membership operator"
   ]
  },
  {
   "cell_type": "code",
   "execution_count": 34,
   "id": "e9a8ee0a",
   "metadata": {},
   "outputs": [],
   "source": [
    "a = 10\n",
    "b = a + 5\n",
    "c = b - 10\n"
   ]
  },
  {
   "cell_type": "code",
   "execution_count": 35,
   "id": "52073251",
   "metadata": {},
   "outputs": [
    {
     "data": {
      "text/plain": [
       "2500.0"
      ]
     },
     "execution_count": 35,
     "metadata": {},
     "output_type": "execute_result"
    }
   ],
   "source": [
    "x = 1000 # assignment\n",
    "x -= 500 # assignment\n",
    "x *= 10\n",
    "x /= 2\n",
    "x"
   ]
  },
  {
   "cell_type": "code",
   "execution_count": 36,
   "id": "3694d91d",
   "metadata": {},
   "outputs": [],
   "source": [
    "z = 5"
   ]
  },
  {
   "cell_type": "markdown",
   "id": "dfa09c6a",
   "metadata": {},
   "source": [
    "# airthmetic operator\n",
    "- add  +\n",
    "- sub  -\n",
    "- mul  *\n",
    "- div  /\n",
    "- int div  //\n",
    "- exp  **\n",
    "- mod  %"
   ]
  },
  {
   "cell_type": "code",
   "execution_count": 37,
   "id": "a05e9ca8",
   "metadata": {},
   "outputs": [
    {
     "data": {
      "text/plain": [
       "13"
      ]
     },
     "execution_count": 37,
     "metadata": {},
     "output_type": "execute_result"
    }
   ],
   "source": [
    "a = 10\n",
    "b = 3\n",
    "a + b"
   ]
  },
  {
   "cell_type": "code",
   "execution_count": 38,
   "id": "1b893df8",
   "metadata": {},
   "outputs": [
    {
     "data": {
      "text/plain": [
       "7"
      ]
     },
     "execution_count": 38,
     "metadata": {},
     "output_type": "execute_result"
    }
   ],
   "source": [
    "a = 10\n",
    "b = 3\n",
    "a - b"
   ]
  },
  {
   "cell_type": "code",
   "execution_count": 39,
   "id": "b9d89727",
   "metadata": {},
   "outputs": [
    {
     "data": {
      "text/plain": [
       "30"
      ]
     },
     "execution_count": 39,
     "metadata": {},
     "output_type": "execute_result"
    }
   ],
   "source": [
    "a = 10\n",
    "b = 3 \n",
    "a * b"
   ]
  },
  {
   "cell_type": "code",
   "execution_count": 40,
   "id": "8afd42a8",
   "metadata": {},
   "outputs": [
    {
     "data": {
      "text/plain": [
       "3.3333333333333335"
      ]
     },
     "execution_count": 40,
     "metadata": {},
     "output_type": "execute_result"
    }
   ],
   "source": [
    "a / b"
   ]
  },
  {
   "cell_type": "code",
   "execution_count": 41,
   "id": "b8fc334d",
   "metadata": {},
   "outputs": [
    {
     "data": {
      "text/plain": [
       "1"
      ]
     },
     "execution_count": 41,
     "metadata": {},
     "output_type": "execute_result"
    }
   ],
   "source": [
    "a % b"
   ]
  },
  {
   "cell_type": "code",
   "execution_count": 42,
   "id": "d2b61877",
   "metadata": {},
   "outputs": [
    {
     "data": {
      "text/plain": [
       "3"
      ]
     },
     "execution_count": 42,
     "metadata": {},
     "output_type": "execute_result"
    }
   ],
   "source": [
    "a // b"
   ]
  },
  {
   "cell_type": "code",
   "execution_count": 43,
   "id": "22cc874b",
   "metadata": {},
   "outputs": [
    {
     "data": {
      "text/plain": [
       "1000"
      ]
     },
     "execution_count": 43,
     "metadata": {},
     "output_type": "execute_result"
    }
   ],
   "source": [
    "a ** b"
   ]
  },
  {
   "cell_type": "code",
   "execution_count": null,
   "id": "52637606",
   "metadata": {},
   "outputs": [],
   "source": []
  },
  {
   "cell_type": "markdown",
   "id": "38992bbb",
   "metadata": {},
   "source": [
    "# operator precedence\n",
    "1 => ()\n",
    "2 => **, *, /, //\n",
    "3 => +, -\n",
    "4 => =\n"
   ]
  },
  {
   "cell_type": "markdown",
   "id": "b27f81ae",
   "metadata": {},
   "source": []
  },
  {
   "cell_type": "markdown",
   "id": "49cc87fe",
   "metadata": {},
   "source": []
  },
  {
   "cell_type": "code",
   "execution_count": 44,
   "id": "96f5b1d5",
   "metadata": {},
   "outputs": [
    {
     "data": {
      "text/plain": [
       "27.0"
      ]
     },
     "execution_count": 44,
     "metadata": {},
     "output_type": "execute_result"
    }
   ],
   "source": [
    "2 + 10 / 2 * 5\n",
    "# 2 + "
   ]
  },
  {
   "cell_type": "code",
   "execution_count": null,
   "id": "e36899be",
   "metadata": {},
   "outputs": [],
   "source": []
  },
  {
   "cell_type": "code",
   "execution_count": 45,
   "id": "7b917512",
   "metadata": {},
   "outputs": [
    {
     "data": {
      "text/plain": [
       "5.0"
      ]
     },
     "execution_count": 45,
     "metadata": {},
     "output_type": "execute_result"
    }
   ],
   "source": [
    "per = 3\n",
    "base = 4\n",
    "(per**2 + base**2)**.5\n"
   ]
  },
  {
   "cell_type": "code",
   "execution_count": null,
   "id": "621b7492",
   "metadata": {},
   "outputs": [],
   "source": []
  },
  {
   "cell_type": "markdown",
   "id": "cfd771b7",
   "metadata": {},
   "source": [
    "what will be the value when x is 10 in 3x + 2(x-1)"
   ]
  },
  {
   "cell_type": "markdown",
   "id": "4159c776",
   "metadata": {},
   "source": [
    "what will be the avg when we have these values 2,4,5,6,1,2,5,6"
   ]
  },
  {
   "cell_type": "markdown",
   "id": "213a96ca",
   "metadata": {},
   "source": [
    "21/08/ 2025"
   ]
  },
  {
   "cell_type": "code",
   "execution_count": null,
   "id": "5197320c",
   "metadata": {},
   "outputs": [],
   "source": []
  },
  {
   "cell_type": "markdown",
   "id": "c888edd3",
   "metadata": {},
   "source": [
    "# comperision operator\n",
    "< <= > >= == !="
   ]
  },
  {
   "cell_type": "code",
   "execution_count": 46,
   "id": "0ade9824",
   "metadata": {},
   "outputs": [],
   "source": [
    "x= 12\n",
    "y=23"
   ]
  },
  {
   "cell_type": "code",
   "execution_count": 47,
   "id": "c1ad167d",
   "metadata": {},
   "outputs": [],
   "source": [
    "x,y = 13, 24\n",
    "a,b,c = 2, 4, 120"
   ]
  },
  {
   "cell_type": "code",
   "execution_count": 48,
   "id": "073586f3",
   "metadata": {},
   "outputs": [
    {
     "data": {
      "text/plain": [
       "False"
      ]
     },
     "execution_count": 48,
     "metadata": {},
     "output_type": "execute_result"
    }
   ],
   "source": [
    "x>y # if x is greater then y"
   ]
  },
  {
   "cell_type": "code",
   "execution_count": 49,
   "id": "04754e82",
   "metadata": {},
   "outputs": [
    {
     "data": {
      "text/plain": [
       "False"
      ]
     },
     "execution_count": 49,
     "metadata": {},
     "output_type": "execute_result"
    }
   ],
   "source": [
    "x>y"
   ]
  },
  {
   "cell_type": "code",
   "execution_count": 50,
   "id": "5816c1c4",
   "metadata": {},
   "outputs": [
    {
     "data": {
      "text/plain": [
       "True"
      ]
     },
     "execution_count": 50,
     "metadata": {},
     "output_type": "execute_result"
    }
   ],
   "source": [
    "x>4"
   ]
  },
  {
   "cell_type": "code",
   "execution_count": 51,
   "id": "a4e30c9c",
   "metadata": {},
   "outputs": [],
   "source": [
    "x=23"
   ]
  },
  {
   "cell_type": "code",
   "execution_count": 52,
   "id": "cc672b67",
   "metadata": {},
   "outputs": [
    {
     "data": {
      "text/plain": [
       "True"
      ]
     },
     "execution_count": 52,
     "metadata": {},
     "output_type": "execute_result"
    }
   ],
   "source": [
    "x!=4"
   ]
  },
  {
   "cell_type": "code",
   "execution_count": 53,
   "id": "bc109123",
   "metadata": {},
   "outputs": [
    {
     "data": {
      "text/plain": [
       "False"
      ]
     },
     "execution_count": 53,
     "metadata": {},
     "output_type": "execute_result"
    }
   ],
   "source": [
    "x>23"
   ]
  },
  {
   "cell_type": "code",
   "execution_count": 54,
   "id": "996514d3",
   "metadata": {},
   "outputs": [
    {
     "data": {
      "text/plain": [
       "False"
      ]
     },
     "execution_count": 54,
     "metadata": {},
     "output_type": "execute_result"
    }
   ],
   "source": [
    "x<15 <y"
   ]
  },
  {
   "cell_type": "code",
   "execution_count": 55,
   "id": "8c6d0b8f",
   "metadata": {},
   "outputs": [
    {
     "data": {
      "text/plain": [
       "True"
      ]
     },
     "execution_count": 55,
     "metadata": {},
     "output_type": "execute_result"
    }
   ],
   "source": [
    "1<x <100"
   ]
  },
  {
   "cell_type": "code",
   "execution_count": 56,
   "id": "80bb0c72",
   "metadata": {},
   "outputs": [],
   "source": [
    "x=100"
   ]
  },
  {
   "cell_type": "code",
   "execution_count": 57,
   "id": "856bdb1a",
   "metadata": {},
   "outputs": [
    {
     "data": {
      "text/plain": [
       "False"
      ]
     },
     "execution_count": 57,
     "metadata": {},
     "output_type": "execute_result"
    }
   ],
   "source": [
    "1<=x <100"
   ]
  },
  {
   "cell_type": "markdown",
   "id": "790200ed",
   "metadata": {},
   "source": []
  },
  {
   "cell_type": "markdown",
   "id": "08444c35",
   "metadata": {},
   "source": [
    "logical operator\n",
    "and or not"
   ]
  },
  {
   "cell_type": "markdown",
   "id": "71e8d713",
   "metadata": {},
   "source": []
  },
  {
   "cell_type": "code",
   "execution_count": 58,
   "id": "e3e1ebde",
   "metadata": {},
   "outputs": [
    {
     "data": {
      "text/plain": [
       "True"
      ]
     },
     "execution_count": 58,
     "metadata": {},
     "output_type": "execute_result"
    }
   ],
   "source": [
    "x>y and x>a"
   ]
  },
  {
   "cell_type": "code",
   "execution_count": 59,
   "id": "68f0e144",
   "metadata": {},
   "outputs": [
    {
     "data": {
      "text/plain": [
       "True"
      ]
     },
     "execution_count": 59,
     "metadata": {},
     "output_type": "execute_result"
    }
   ],
   "source": [
    "10 ==5 or 15==15"
   ]
  },
  {
   "cell_type": "code",
   "execution_count": 60,
   "id": "d14a45b8",
   "metadata": {},
   "outputs": [
    {
     "data": {
      "text/plain": [
       "True"
      ]
     },
     "execution_count": 60,
     "metadata": {},
     "output_type": "execute_result"
    }
   ],
   "source": [
    "a==2 or b==10"
   ]
  },
  {
   "cell_type": "code",
   "execution_count": 62,
   "id": "515f7df8",
   "metadata": {},
   "outputs": [
    {
     "data": {
      "text/plain": [
       "True"
      ]
     },
     "execution_count": 62,
     "metadata": {},
     "output_type": "execute_result"
    }
   ],
   "source": [
    "not (a==10)"
   ]
  },
  {
   "cell_type": "code",
   "execution_count": null,
   "id": "ee616fc0",
   "metadata": {},
   "outputs": [],
   "source": [
    "x = 5000 \n",
    "y = 300 \n"
   ]
  }
 ],
 "metadata": {
  "kernelspec": {
   "display_name": "Python 3",
   "language": "python",
   "name": "python3"
  },
  "language_info": {
   "codemirror_mode": {
    "name": "ipython",
    "version": 3
   },
   "file_extension": ".py",
   "mimetype": "text/x-python",
   "name": "python",
   "nbconvert_exporter": "python",
   "pygments_lexer": "ipython3",
   "version": "3.13.6"
  }
 },
 "nbformat": 4,
 "nbformat_minor": 5
}

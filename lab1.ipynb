{
 "cells": [
  {
   "cell_type": "code",
   "execution_count": null,
   "id": "80354860",
   "metadata": {},
   "outputs": [],
   "source": [
    "print(\"Welcome to Python!\")\n",
    "print(\"Sum:\", 5 + 3)\n",
    "print(\"Hello\", \"World\", \"!\")\n",
    "name = \"Alice\"\n",
    "print(\"Name:\", name)\n",
    "name, age, city = \"Alice\", 22, \"New York\"\n",
    "print(\"Name:\", name, \"Age:\", age, \"City:\", city)"
   ]
  },
  {
   "cell_type": "code",
   "execution_count": null,
   "id": "dd3c6c3a",
   "metadata": {},
   "outputs": [],
   "source": [
    "name = input(\"Enter your name: \")\n",
    "print(\"Hello,\", name)\n",
    "city = input(\"Enter your city: \")\n",
    "print(\"You are from\", city)\n",
    "age = int(input(\"Enter your age: \"))\n",
    "print(\"You are\", age, \"years old.\")\n",
    "rate = float(input(\"Enter your rate: \"))\n",
    "print(\"Your rate is\", rate)"
   ]
  },
  {
   "cell_type": "code",
   "execution_count": null,
   "id": "fc0d30d8",
   "metadata": {},
   "outputs": [],
   "source": [
    "print(\"A\", \"B\", sep=\"-\")  # Output: A-B\n",
    "print(\"Hello\", end=\"!\")   # Output: Hello!\n"
   ]
  },
  {
   "cell_type": "code",
   "execution_count": null,
   "id": "36806c5c",
   "metadata": {},
   "outputs": [],
   "source": [
    "name = \"Alice\"\n",
    "age = 22\n",
    "print(f\"{name} is {age} years old.\")"
   ]
  },
  {
   "cell_type": "code",
   "execution_count": null,
   "id": "28e9c593",
   "metadata": {},
   "outputs": [],
   "source": [
    "print(\"{} scored {} marks.\".format(\"Bob\", 95))\n",
    "print(\"{1} is {0} years old.\".format(30, \"Charlie\"))"
   ]
  },
  {
   "cell_type": "code",
   "execution_count": null,
   "id": "c475cab9",
   "metadata": {},
   "outputs": [],
   "source": [
    "x = 10\n",
    "print(type(x))  # <class 'int'>"
   ]
  },
  {
   "cell_type": "code",
   "execution_count": null,
   "id": "0da4c97b",
   "metadata": {},
   "outputs": [],
   "source": [
    "y = 3.5\n",
    "print(type(y))  # <class 'float'>"
   ]
  },
  {
   "cell_type": "code",
   "execution_count": null,
   "id": "bac4df30",
   "metadata": {},
   "outputs": [],
   "source": [
    "z = 1 + 2j\n",
    "print(type(z))  # <class 'complex'>"
   ]
  },
  {
   "cell_type": "code",
   "execution_count": null,
   "id": "3675ed45",
   "metadata": {},
   "outputs": [],
   "source": [
    "n = None\n",
    "print(type(n))  # <class 'NoneType'>"
   ]
  },
  {
   "cell_type": "code",
   "execution_count": null,
   "id": "3be5ccd4",
   "metadata": {},
   "outputs": [],
   "source": [
    "s = \"Python\"\n",
    "print(type(s))  # <class 'str'>"
   ]
  },
  {
   "cell_type": "code",
   "execution_count": null,
   "id": "59951dbe",
   "metadata": {},
   "outputs": [],
   "source": [
    "point = (3, 5)\n",
    "print(type(point))  # <class 'tuple'>"
   ]
  },
  {
   "cell_type": "code",
   "execution_count": null,
   "id": "336e5e8a",
   "metadata": {},
   "outputs": [],
   "source": [
    "fruits = {\"apple\", \"banana\", \"cherry\"}\n",
    "print(type(fruits))  # <class 'fruits')"
   ]
  },
  {
   "cell_type": "code",
   "execution_count": null,
   "id": "a43fcbf4",
   "metadata": {},
   "outputs": [],
   "source": [
    "point = (3, 5)\n",
    "print(type(point))  # <class 'tuple'>"
   ]
  },
  {
   "cell_type": "code",
   "execution_count": null,
   "id": "4e4ce17f",
   "metadata": {},
   "outputs": [],
   "source": [
    "student = {\"name\": \"Alice\", \"age\": 22}\n",
    "print(type(student))  # <class 'dict'>"
   ]
  },
  {
   "cell_type": "code",
   "execution_count": null,
   "id": "5cb36276",
   "metadata": {},
   "outputs": [],
   "source": [
    "b = b\"Hello\"\n",
    "print(type(b))  # <class 'bytes'>"
   ]
  },
  {
   "cell_type": "code",
   "execution_count": null,
   "id": "3055af95",
   "metadata": {},
   "outputs": [],
   "source": [
    "a = 10\n",
    "b = 3\n",
    "print(a + b)  # 13\n",
    "print(a / b)  # 3.333...\n",
    "print(a // b) # 3\n",
    "print(a ** b) # 1000"
   ]
  },
  {
   "cell_type": "code",
   "execution_count": null,
   "id": "93cad11a",
   "metadata": {},
   "outputs": [],
   "source": [
    "print(5 > 2)   # True\n",
    "print(5 == 2)  # False"
   ]
  },
  {
   "cell_type": "code",
   "execution_count": null,
   "id": "8d6c9c0e",
   "metadata": {},
   "outputs": [],
   "source": [
    "x = 5\n",
    "print(x > 2 and x < 10)  # True\n",
    "print(not(x == 5))       # False"
   ]
  },
  {
   "cell_type": "code",
   "execution_count": null,
   "id": "b47ecd3f",
   "metadata": {},
   "outputs": [],
   "source": [
    "a = 5  # 0101\n",
    "b = 3  # 0011\n",
    "print(a & b)  # 1\n",
    "print(a | b)  # 7\n",
    "print(a ^ b)  # 6\n",
    "print(~a)     # -6\n",
    "print(a << 1) # 10\n",
    "print(a >> 1) # 2"
   ]
  },
  {
   "cell_type": "code",
   "execution_count": null,
   "id": "271bc645",
   "metadata": {},
   "outputs": [],
   "source": [
    "x = 10\n",
    "x += 5  # x = x + 5\n",
    "print(x)  # 15"
   ]
  },
  {
   "cell_type": "code",
   "execution_count": null,
   "id": "9644ded8",
   "metadata": {},
   "outputs": [],
   "source": [
    "nums = [1, 2, 3]\n",
    "print(2 in nums)      # True\n",
    "print(4 not in nums)  # True"
   ]
  },
  {
   "cell_type": "code",
   "execution_count": null,
   "id": "2c70f279",
   "metadata": {},
   "outputs": [],
   "source": [
    "a = [1, 2]\n",
    "b = a\n",
    "c = [1, 2]\n",
    "print(a is b)      # True\n",
    "print(a is c)      # False\n",
    "print(a == c)      # True"
   ]
  },
  {
   "cell_type": "markdown",
   "id": "989304b0",
   "metadata": {},
   "source": []
  },
  {
   "cell_type": "code",
   "execution_count": null,
   "id": "f36e4d73",
   "metadata": {},
   "outputs": [],
   "source": []
  }
 ],
 "metadata": {
  "kernelspec": {
   "display_name": "Python 3",
   "language": "python",
   "name": "python3"
  },
  "language_info": {
   "codemirror_mode": {
    "name": "ipython",
    "version": 3
   },
   "file_extension": ".py",
   "mimetype": "text/x-python",
   "name": "python",
   "nbconvert_exporter": "python",
   "pygments_lexer": "ipython3",
   "version": "3.13.6"
  }
 },
 "nbformat": 4,
 "nbformat_minor": 5
}

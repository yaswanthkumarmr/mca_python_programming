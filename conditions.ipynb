{
 "cells": [
  {
   "cell_type": "code",
   "execution_count": 2,
   "id": "ad588759",
   "metadata": {},
   "outputs": [
    {
     "name": "stdout",
     "output_type": "stream",
     "text": [
      "value => 10\n"
     ]
    }
   ],
   "source": [
    "data = int(input(\"enter data value\"))\n",
    "print(f\"value => {data}\")\n",
    "      "
   ]
  },
  {
   "cell_type": "code",
   "execution_count": 7,
   "id": "9736baae",
   "metadata": {},
   "outputs": [
    {
     "name": "stdout",
     "output_type": "stream",
     "text": [
      "what is th captial of india?\n"
     ]
    }
   ],
   "source": [
    "print(\"what is th captial of india?\")\n",
    "answer = input(\"Answer\")\n",
    "if answer == \"Delhi\":\n",
    "  print(\" you are correct\")\n",
    "if answer == \"New Delhi\":\n",
    "  print(\"You Are very Correct\")\n",
    "if answer == \"Shimla\":\n",
    "  print(\"You must be from Britain\") "
   ]
  },
  {
   "cell_type": "code",
   "execution_count": null,
   "id": "cf85f39c",
   "metadata": {},
   "outputs": [
    {
     "name": "stdout",
     "output_type": "stream",
     "text": [
      "your grade: B\n",
      "Your garde: c\n",
      "your grade: d\n"
     ]
    }
   ],
   "source": [
    "marks = int(input(\"enter your total marks in 10th: \"))\n",
    "if marks > 90:\n",
    "    print(\"your grade: A\")\n",
    "if marks > 75:\n",
    "    print(\"your grade: B\")\n",
    "if marks > 60:\n",
    "    print(\"Your garde: c\")\n",
    "if marks > 40:\n",
    "    print(\"your grade: d\")\n",
    "if marks < 40:\n",
    "    print(\"your failed: 😎\")"
   ]
  },
  {
   "cell_type": "code",
   "execution_count": 12,
   "id": "462e23cd",
   "metadata": {},
   "outputs": [
    {
     "name": "stdout",
     "output_type": "stream",
     "text": [
      "your failed: 😎\n"
     ]
    }
   ],
   "source": [
    "marks = int(input(\"enter your total marks in 10th: \"))\n",
    "if marks > 90:\n",
    "    print(\"your grade: A\")\n",
    "elif marks > 75:\n",
    "    print(\"your grade: B\")\n",
    "elif marks > 60:\n",
    "    print(\"Your garde: c\")\n",
    "elif marks > 40:\n",
    "    print(\" your grade: D\")\n",
    "    print(\"your grade: d\")\n",
    "elif marks < 40:\n",
    "    print(\"your failed: 😎\")"
   ]
  },
  {
   "cell_type": "code",
   "execution_count": 13,
   "id": "9d3db9cf",
   "metadata": {},
   "outputs": [
    {
     "name": "stdout",
     "output_type": "stream",
     "text": [
      "your grade: A\n"
     ]
    }
   ],
   "source": [
    "marks = int(input(\"enter your total marks in 10th: \"))\n",
    "if marks > 90 and marks <=100:\n",
    "    print(\"your grade: A\")\n",
    "if marks > 75 and marks <=90:\n",
    "    print(\"your grade: B\")\n",
    "if marks > 60 and marks <=75:\n",
    "    print(\"Your garde: c\")\n",
    "if marks > 40 and marks <=60:\n",
    "    print(\" your grade: D\")\n",
    "if marks < 40:\n",
    "    print(\"your failed: 😎\")"
   ]
  },
  {
   "cell_type": "code",
   "execution_count": 17,
   "id": "cb8fdde9",
   "metadata": {},
   "outputs": [
    {
     "name": "stdout",
     "output_type": "stream",
     "text": [
      "frinds salary => 80000\n",
      "frinde total => 76000.0\n"
     ]
    }
   ],
   "source": [
    "# salary calculator\n",
    "salary = int(input(\"enter your frinde salary\"))\n",
    "if salary >100000:\n",
    "    total = salary - salary * .2 # frinds tax 20%\n",
    "elif salary > 80000:\n",
    "    total = salary - salary * .1\n",
    "elif salary > 50000:\n",
    "    total = salary - salary * .05\n",
    "else:\n",
    "    total = salary + 10000\n",
    "print(F'frinds salary => {salary}')\n",
    "print(f'frinde total => {total}')"
   ]
  },
  {
   "cell_type": "markdown",
   "id": "b1697985",
   "metadata": {},
   "source": [
    "match case"
   ]
  },
  {
   "cell_type": "code",
   "execution_count": 3,
   "id": "779d4c01",
   "metadata": {},
   "outputs": [
    {
     "name": "stdout",
     "output_type": "stream",
     "text": [
      "HOLIDAY\n"
     ]
    }
   ],
   "source": [
    "day = input(\"what is the today?\")\n",
    "match day:\n",
    "    case \"MONDAY\": print(\"today is monday! boring\")\n",
    "    case \"sunday\": print(\"HOLIDAY\")\n",
    "    case \"Friday\": print(\"waiting for weekend\")\n",
    "    case \"Sarturdy\" : print(\"The best day for week\")\n",
    "    case defult: print(\"its not an option\")\n",
    "    \n",
    "    "
   ]
  },
  {
   "cell_type": "code",
   "execution_count": 4,
   "id": "0416e0a8",
   "metadata": {},
   "outputs": [
    {
     "name": "stdout",
     "output_type": "stream",
     "text": [
      "today is monday! boring\n"
     ]
    }
   ],
   "source": [
    "day = input(\"what is the today?\")\n",
    "match day:\n",
    "    case \"MONDAY\": print(\"today is monday! boring\")\n",
    "    case \"sunday\": print(\"HOLIDAY\")\n",
    "    case \"Friday\": print(\"waiting for weekend\")\n",
    "    case \"Sarturdy\" : print(\"The best day for week\")\n",
    "    case defult: print(\"its not an option\")"
   ]
  },
  {
   "cell_type": "code",
   "execution_count": 5,
   "id": "f4da3f87",
   "metadata": {},
   "outputs": [
    {
     "name": "stdout",
     "output_type": "stream",
     "text": [
      "waiting for weekend\n"
     ]
    }
   ],
   "source": [
    "day = input(\"what is the today?\")\n",
    "match day:\n",
    "    case \"MONDAY\": print(\"today is monday! boring\")\n",
    "    case \"sunday\": print(\"HOLIDAY\")\n",
    "    case \"Friday\": print(\"waiting for weekend\")\n",
    "    case \"Sarturdy\" : print(\"The best day for week\")\n",
    "    case defult: print(\"its not an option\")"
   ]
  },
  {
   "cell_type": "code",
   "execution_count": 9,
   "id": "c00fe9a0",
   "metadata": {},
   "outputs": [
    {
     "name": "stdout",
     "output_type": "stream",
     "text": [
      "The best day for week\n"
     ]
    }
   ],
   "source": [
    "day = input(\"what is the today?\")\n",
    "match day:\n",
    "    case \"MONDAY\": print(\"today is monday! boring\")\n",
    "    case \"sunday\": print(\"HOLIDAY\")\n",
    "    case \"Friday\": print(\"waiting for weekend\")\n",
    "    case \"Sarturday\" : print(\"The best day for week\")\n",
    "    case defult: print(\"its not an option\")"
   ]
  },
  {
   "cell_type": "code",
   "execution_count": 7,
   "id": "f89c0868",
   "metadata": {},
   "outputs": [
    {
     "name": "stdout",
     "output_type": "stream",
     "text": [
      "its not an option\n"
     ]
    }
   ],
   "source": [
    "day = input(\"what is the today?\")\n",
    "match day:\n",
    "    case \"MONDAY\": print(\"today is monday! boring\")\n",
    "    case \"sunday\": print(\"HOLIDAY\")\n",
    "    case \"Friday\": print(\"waiting for weekend\")\n",
    "    case \"Sarturdy\" : print(\"The best day for week\")\n",
    "    case defult: print(\"its not an option\")"
   ]
  },
  {
   "cell_type": "code",
   "execution_count": 15,
   "id": "62935f1c",
   "metadata": {},
   "outputs": [
    {
     "name": "stdout",
     "output_type": "stream",
     "text": [
      "Tell me some moves\n",
      "hanuman\n"
     ]
    }
   ],
   "source": [
    "print(\"Tell me some moves\")\n",
    "gener = input(\"what gerner do yuo like\")\n",
    "match gener:\n",
    "    case \"action\":\n",
    "        print(\"avengers,deadpool, fast,doremon\")\n",
    "    case \"horror\":\n",
    "        print(\"kanchana,chandramukhi,arundhati\")\n",
    "    case \"fantasy\": \n",
    "        print(\"hanuman\")\n",
    "    case \"comedy\":\n",
    "        print(\"fun and frustration,happydays\") \n",
    "    case defult:\n",
    "        print(\"you should not watch any moves\")  \n",
    "    \n"
   ]
  },
  {
   "cell_type": "code",
   "execution_count": null,
   "id": "1ccf81e6",
   "metadata": {},
   "outputs": [],
   "source": []
  },
  {
   "cell_type": "code",
   "execution_count": 16,
   "id": "d9c02ca8",
   "metadata": {},
   "outputs": [
    {
     "name": "stdout",
     "output_type": "stream",
     "text": [
      "the bear destroyed you\n"
     ]
    }
   ],
   "source": [
    "ans = input(\"you see a bear,would like to fight it yes/no?\")\n",
    "if ans == \"no\":\n",
    "    print(\"you escaped and find a lion\")\n",
    "    ans2 = input(\"you want to fight it yes/no\")\n",
    "    if ans2 == \"n\":\n",
    "        print(\"you eascaped again, find a car\")\n",
    "        ans3 = input(\"you want to drive it yes/ no\")\n",
    "        if ans3 == 'yes':\n",
    "            print(\"you eascaped the area\")\n",
    "        else:\n",
    "            print(\"the bear & lion catch and kill u\")\n",
    "    else:\n",
    "        print(\"you failed miserably and died\")\n",
    "else:\n",
    "    print(\"the bear destroyed you\")"
   ]
  },
  {
   "cell_type": "code",
   "execution_count": 17,
   "id": "46a89d99",
   "metadata": {},
   "outputs": [
    {
     "name": "stdout",
     "output_type": "stream",
     "text": [
      "you escaped and find a lion\n",
      "you failed miserably and died\n"
     ]
    }
   ],
   "source": [
    "ans = input(\"you see a bear,would like to fight it yes/no?\")\n",
    "if ans == \"no\":\n",
    "    print(\"you escaped and find a lion\")\n",
    "    ans2 = input(\"you want to fight it yes/no\")\n",
    "    if ans2 == \"n\":\n",
    "        print(\"you eascaped again, find a car\")\n",
    "        ans3 = input(\"you want to drive it yes/ no\")\n",
    "        if ans3 == 'yes':\n",
    "            print(\"you eascaped the area\")\n",
    "        else:\n",
    "            print(\"the bear & lion catch and kill u\")\n",
    "    else:\n",
    "        print(\"you failed miserably and died\")\n",
    "else:\n",
    "    print(\"the bear destroyed you\")"
   ]
  },
  {
   "cell_type": "code",
   "execution_count": 23,
   "id": "12fd0d7c",
   "metadata": {},
   "outputs": [
    {
     "name": "stdout",
     "output_type": "stream",
     "text": [
      "you escaped and find a lion\n",
      "you failed miserably and died\n"
     ]
    }
   ],
   "source": [
    "ans = input(\"you see a bear,would like to fight it yes/no?\")\n",
    "if ans == \"no\":\n",
    "    print(\"you escaped and find a lion\")\n",
    "    ans2 = input(\"you want to fight it yes/no\")\n",
    "    if ans2 == \"no\":\n",
    "        print(\"you eascaped again, find a car\")\n",
    "        ans3 = input(\"you want to drive it yes/ no\")\n",
    "        if ans3 == 'yes':\n",
    "            print(\"you eascaped the area\")\n",
    "        else:\n",
    "            print(\"the bear & lion catch and kill u\")\n",
    "    else:\n",
    "        print(\"you failed miserably and died\")\n",
    "else:\n",
    "    print(\"the bear destroyed you\")"
   ]
  },
  {
   "cell_type": "code",
   "execution_count": 1,
   "id": "d12f1ac7",
   "metadata": {},
   "outputs": [
    {
     "ename": "IndentationError",
     "evalue": "expected an indented block after 'if' statement on line 3 (167811829.py, line 4)",
     "output_type": "error",
     "traceback": [
      "  \u001b[36mCell\u001b[39m\u001b[36m \u001b[39m\u001b[32mIn[1]\u001b[39m\u001b[32m, line 4\u001b[39m\n\u001b[31m    \u001b[39m\u001b[31mtotal = a + b + c\u001b[39m\n    ^\n\u001b[31mIndentationError\u001b[39m\u001b[31m:\u001b[39m expected an indented block after 'if' statement on line 3\n"
     ]
    }
   ],
   "source": [
    "a,b,c = 10,5,23\n",
    "if a > b:\n",
    "    if a > c:\n",
    "    total = a + b + c\n",
    "    if total > 100:\n",
    "        print(f\"the total is big value = {total}\")\n",
    "    else:\n",
    "        print(f\"the total is small value = {total}\" \n",
    "else:\n",
    "        total = c + b\n",
    "    print(f\"the total is {total}\")\n",
    "else:\n",
    "    print(\"the total was not calcultataed\")\n",
    "         \n",
    "        "
   ]
  },
  {
   "cell_type": "code",
   "execution_count": null,
   "id": "35629e83",
   "metadata": {},
   "outputs": [],
   "source": []
  }
 ],
 "metadata": {
  "kernelspec": {
   "display_name": "Python 3",
   "language": "python",
   "name": "python3"
  },
  "language_info": {
   "codemirror_mode": {
    "name": "ipython",
    "version": 3
   },
   "file_extension": ".py",
   "mimetype": "text/x-python",
   "name": "python",
   "nbconvert_exporter": "python",
   "pygments_lexer": "ipython3",
   "version": "3.13.6"
  }
 },
 "nbformat": 4,
 "nbformat_minor": 5
}
